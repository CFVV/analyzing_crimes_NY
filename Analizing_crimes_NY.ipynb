{
 "cells": [
  {
   "cell_type": "markdown",
   "metadata": {},
   "source": [
    "<font color='green'>\n",
    "    \n",
    "## **Analizado los crímenes en la Ciudad de Nueva York**\n",
    "***\n",
    "#### _C. Contreras -  C. Vera_\n",
    "</font>"
   ]
  },
  {
   "cell_type": "markdown",
   "metadata": {},
   "source": [
    "\n",
    "### Hito 1\n",
    "## I. PRELIMINARES\n",
    "\n",
    "**Descripción del problema y objetivos** <br>\n",
    "Basándose en el dataset  **_stop_and_frisk_data.csv_** , el que corresponde a datos públicos del departamento policial de Nueva York,\n",
    "se  abordarán dos problemas de clasificación binaria, considerando que la mayoría de las variables son de tipo categóricas, de esta manera se puede estimar la probabilidad de pertenencia a una determinada clase binarizada. <br>\n",
    "1. Primero, se requiere  predecir si un determinado precedimiento policial concluirá en un arresto o no, para ello se generará un modelos predictivos, el que será depurado según los resultados de las métricas resultantes.<br> En este problema se considerará la variable objetivo **'arstmade'**, la cual indica si el procedimiento policial terminá en arresto o no, de acuerdo a las características medidas del sospechoso.<br>\n",
    "\n",
    "2. Segundo, se requiere predecir si el procedimiento policial concluirá en una acción violenta, para ellos se generará un nueva variable objetivo llamada **'force_process'** que incluye atributos que indican violencia, como 'pf_hands', 'pf_wall', 'pf_grnd', 'pf_drwep', 'pf_baton','pf_hcuff', 'pf_pepsp', 'pf_other', entre otros. Para este problema se generarán 5 modelos predictivos.\n",
    "\n",
    "Para ambos problemas, se utilizarán los datos correspondientes al año 2009 como conjunto de entrenamiento y los datos del 2010 como conjunto de test.\n",
    "\n",
    "* **Cómo implementaremos la solución.** <br>\n",
    "La metodología consiste  en analizar las 111 variables del dataset: ingesta de datos, pre procesamiento, visualización y modelación. Lo que corresponde a lo siguiente:    \n",
    "    \n",
    "    1. Importación y limpieza dataset\n",
    "    - Normalización de la cantidad de atributos con la función create_suitable_dataframe, del script dado: _preproc_nyc_sqf.py_\n",
    "    - Visualización y reporte de valores perdidos\n",
    "    - Recodificación de variables\n",
    "    - Visualización de frecuencias \n",
    "    - Generación de modelo predictivo\n",
    "    - Reporte de métricas de desempeño\n",
    "    - Depuración de modelos \n",
    "    - Generación de 5 nuevos modelos predictivos\n",
    "    - Reporte de métricas de desempeño para los modelos\n",
    "    - Selección de los 2 mejores modelos y serializarlos con la nomenclatura: nombre_grupo-modelo-1 y nombre_grupo-modelo-2 .\n",
    "    \n",
    "    \n",
    "\n",
    "* **Criterios de optimización y métricas de desempeño.** <br>\n",
    "Para la evaluación de los resultados y determinar cuál es el mejor modelo se realizara lo siguiente:\n",
    "\n",
    "     - Análisis de los 5 modelos  y sus predicciones ocupando las siguientes métricas:\n",
    "     - Precision, recall, f1 y accuracy en base a una matríz de confusión\n",
    "     \n"
   ]
  },
  {
   "cell_type": "markdown",
   "metadata": {},
   "source": [
    "## II. ASPECTOS  COMPUTACIONALES\n",
    "* **Librerías a utilizar**\n",
    "    - Para visualzación de datos:\n",
    "         - **numpy** versión 1.17.2\n",
    "         - **pandas** versión 0.25.1\n",
    "   \n",
    "    - Para graficar:\n",
    "        - **matplotlib.pyplot** versión 3.1.1\n",
    "        - **seaborn** versión 0.9.0\n",
    "    - Para algoritmos de clasificacion: **sklearn** versión y 0.21.3\n",
    "    - Python versión 3.7.3\n",
    "\n",
    "* **Fuciones auxiliares y su objetivo**\n",
    "    - Se usará la función **preproc_nyc_sqf**  para normalizar la cantidad de atributos.\n",
    "   \n",
    "* **modelos con una grilla de hiperparámetros tentativa (5)**<br>\n",
    "    1.Para LogisticRegression: <br> params = {'C': [0.0001, 0.001, 0.01, 0.1, 1, 10, 100, 1000],'penalty': ['l1', 'l2']}<br>\n",
    "    \n",
    "    2.Para Random Forest: <br> params = {'max_features':[None, 'log2', 'sqrt'], 'n_estimators': [50,100,150,200,250,500], 'max_depth':[None, 2, 5, 7, 10]} <br>\n",
    "\n",
    "    3.Para AdaBoostClassifier: <br> params = {'learning_rate': [0.01, 0.1,0.5],'n_estimators': [50, 100, 500, 1000, 2000]}<br>\n",
    "    \n",
    "    4.Para GradientBoostingClassifier: <br> params = {'learning_rate': [0.01, 0.1, 0.5],'n_estimators': [50, 100, 500, 1000, 2000],'subsample': [0.1, 0.5, 0.9]}<br>\n",
    "\n",
    "    5.Para SVC: <br> params = {'C': 'C': [0.0001, 0.001, 0.01, 0.1, 1, 10, 100, 1000],'gamma': 'C': [0.0000001, 0.0001, 0.001, 0.01, 1, 10]}"
   ]
  },
  {
   "cell_type": "markdown",
   "metadata": {},
   "source": [
    "### III. ANALISIS EXPLORATORIO\n",
    "* Análisis descriptivo considerando el tipo de variables\n",
    "* Medidas univariadas/ frecuencias, datos perdidos y gráficos distributivos sobre las variables a analizar\n",
    "* Estrategia de preprocesamiento (datos perdidos, recodificaciones)."
   ]
  },
  {
   "cell_type": "code",
   "execution_count": 3,
   "metadata": {},
   "outputs": [],
   "source": [
    "import pandas as pd\n",
    "import numpy as np\n",
    "import seaborn as sns\n",
    "import re\n",
    "\n",
    "import matplotlib.pyplot as plt\n",
    "plt.style.use('seaborn-whitegrid')\n",
    "\n",
    "#from IPython.display import HTML, display\n",
    "import missingno as msno\n",
    "from imblearn.over_sampling import SMOTE #0.5.0\n",
    "\n",
    "import warnings\n",
    "warnings.filterwarnings('ignore')\n",
    "\n",
    "from sklearn.model_selection import train_test_split\n",
    "from sklearn.model_selection import GridSearchCV\n",
    "\n",
    "from sklearn.linear_model import LogisticRegression\n",
    "from sklearn.ensemble import AdaBoostClassifier,GradientBoostingClassifier,RandomForestClassifier\n",
    "from sklearn.svm import SVC\n",
    "\n",
    "from sklearn.metrics import confusion_matrix,classification_report, accuracy_score, recall_score\n",
    "import preproc_nyc_sqf as prep"
   ]
  },
  {
   "cell_type": "code",
   "execution_count": 4,
   "metadata": {},
   "outputs": [],
   "source": [
    "df_train= pd.read_csv('2009_1perc.csv').drop(columns = 'Unnamed: 0', axis=1)\n",
    "df_test = pd.read_csv('2010_1perc.csv').drop('Unnamed: 0',axis =1)"
   ]
  },
  {
   "cell_type": "code",
   "execution_count": 5,
   "metadata": {},
   "outputs": [
    {
     "data": {
      "text/plain": [
       "(6013, 111)"
      ]
     },
     "execution_count": 5,
     "metadata": {},
     "output_type": "execute_result"
    }
   ],
   "source": [
    "df_test.shape\n"
   ]
  },
  {
   "cell_type": "code",
   "execution_count": 6,
   "metadata": {},
   "outputs": [
    {
     "data": {
      "text/plain": [
       "(5812, 111)"
      ]
     },
     "execution_count": 6,
     "metadata": {},
     "output_type": "execute_result"
    }
   ],
   "source": [
    "df_train.shape"
   ]
  },
  {
   "cell_type": "code",
   "execution_count": 7,
   "metadata": {},
   "outputs": [
    {
     "data": {
      "text/html": [
       "<div>\n",
       "<style scoped>\n",
       "    .dataframe tbody tr th:only-of-type {\n",
       "        vertical-align: middle;\n",
       "    }\n",
       "\n",
       "    .dataframe tbody tr th {\n",
       "        vertical-align: top;\n",
       "    }\n",
       "\n",
       "    .dataframe thead th {\n",
       "        text-align: right;\n",
       "    }\n",
       "</style>\n",
       "<table border=\"1\" class=\"dataframe\">\n",
       "  <thead>\n",
       "    <tr style=\"text-align: right;\">\n",
       "      <th></th>\n",
       "      <th>year</th>\n",
       "      <th>pct</th>\n",
       "      <th>ser_num</th>\n",
       "      <th>datestop</th>\n",
       "      <th>timestop</th>\n",
       "      <th>recstat</th>\n",
       "      <th>inout</th>\n",
       "      <th>trhsloc</th>\n",
       "      <th>perobs</th>\n",
       "      <th>crimsusp</th>\n",
       "      <th>...</th>\n",
       "      <th>zip</th>\n",
       "      <th>addrpct</th>\n",
       "      <th>sector</th>\n",
       "      <th>beat</th>\n",
       "      <th>post</th>\n",
       "      <th>xcoord</th>\n",
       "      <th>ycoord</th>\n",
       "      <th>dettypcm</th>\n",
       "      <th>linecm</th>\n",
       "      <th>detailcm</th>\n",
       "    </tr>\n",
       "  </thead>\n",
       "  <tbody>\n",
       "    <tr>\n",
       "      <td>0</td>\n",
       "      <td>2009</td>\n",
       "      <td>41</td>\n",
       "      <td>1779</td>\n",
       "      <td>4032009</td>\n",
       "      <td>130</td>\n",
       "      <td>A</td>\n",
       "      <td>O</td>\n",
       "      <td>P</td>\n",
       "      <td>1.0</td>\n",
       "      <td>CPW</td>\n",
       "      <td>...</td>\n",
       "      <td></td>\n",
       "      <td>41</td>\n",
       "      <td>G</td>\n",
       "      <td>7</td>\n",
       "      <td></td>\n",
       "      <td>1013067</td>\n",
       "      <td>0238633</td>\n",
       "      <td>CM</td>\n",
       "      <td>1</td>\n",
       "      <td>20</td>\n",
       "    </tr>\n",
       "    <tr>\n",
       "      <td>1</td>\n",
       "      <td>2009</td>\n",
       "      <td>108</td>\n",
       "      <td>5805</td>\n",
       "      <td>10292009</td>\n",
       "      <td>1050</td>\n",
       "      <td>A</td>\n",
       "      <td>O</td>\n",
       "      <td>P</td>\n",
       "      <td>3.0</td>\n",
       "      <td>BURG</td>\n",
       "      <td>...</td>\n",
       "      <td></td>\n",
       "      <td>108</td>\n",
       "      <td>J</td>\n",
       "      <td></td>\n",
       "      <td></td>\n",
       "      <td>1012043</td>\n",
       "      <td>0212157</td>\n",
       "      <td>CM</td>\n",
       "      <td>1</td>\n",
       "      <td>14</td>\n",
       "    </tr>\n",
       "    <tr>\n",
       "      <td>2</td>\n",
       "      <td>2009</td>\n",
       "      <td>43</td>\n",
       "      <td>8340</td>\n",
       "      <td>10062009</td>\n",
       "      <td>1450</td>\n",
       "      <td>1</td>\n",
       "      <td>O</td>\n",
       "      <td>P</td>\n",
       "      <td>1.0</td>\n",
       "      <td>MISD</td>\n",
       "      <td>...</td>\n",
       "      <td></td>\n",
       "      <td>43</td>\n",
       "      <td>E</td>\n",
       "      <td></td>\n",
       "      <td></td>\n",
       "      <td>1017599</td>\n",
       "      <td>0240200</td>\n",
       "      <td>CM</td>\n",
       "      <td>1</td>\n",
       "      <td>20</td>\n",
       "    </tr>\n",
       "    <tr>\n",
       "      <td>3</td>\n",
       "      <td>2009</td>\n",
       "      <td>77</td>\n",
       "      <td>932</td>\n",
       "      <td>1232009</td>\n",
       "      <td>1843</td>\n",
       "      <td>A</td>\n",
       "      <td>O</td>\n",
       "      <td>P</td>\n",
       "      <td>5.0</td>\n",
       "      <td>MIS</td>\n",
       "      <td>...</td>\n",
       "      <td></td>\n",
       "      <td>77</td>\n",
       "      <td>J</td>\n",
       "      <td>4</td>\n",
       "      <td>35</td>\n",
       "      <td>1002625</td>\n",
       "      <td>0183442</td>\n",
       "      <td>CM</td>\n",
       "      <td>1</td>\n",
       "      <td>24</td>\n",
       "    </tr>\n",
       "    <tr>\n",
       "      <td>4</td>\n",
       "      <td>2009</td>\n",
       "      <td>110</td>\n",
       "      <td>11224</td>\n",
       "      <td>12132009</td>\n",
       "      <td>1655</td>\n",
       "      <td>A</td>\n",
       "      <td>O</td>\n",
       "      <td>P</td>\n",
       "      <td>3.0</td>\n",
       "      <td>CPW</td>\n",
       "      <td>...</td>\n",
       "      <td></td>\n",
       "      <td>110</td>\n",
       "      <td>H</td>\n",
       "      <td></td>\n",
       "      <td></td>\n",
       "      <td>1024535</td>\n",
       "      <td>0209890</td>\n",
       "      <td>CM</td>\n",
       "      <td>1</td>\n",
       "      <td>20</td>\n",
       "    </tr>\n",
       "  </tbody>\n",
       "</table>\n",
       "<p>5 rows × 111 columns</p>\n",
       "</div>"
      ],
      "text/plain": [
       "   year  pct  ser_num  datestop  timestop recstat inout trhsloc  perobs  \\\n",
       "0  2009   41     1779   4032009       130       A     O       P     1.0   \n",
       "1  2009  108     5805  10292009      1050       A     O       P     3.0   \n",
       "2  2009   43     8340  10062009      1450       1     O       P     1.0   \n",
       "3  2009   77      932   1232009      1843       A     O       P     5.0   \n",
       "4  2009  110    11224  12132009      1655       A     O       P     3.0   \n",
       "\n",
       "  crimsusp  ...  zip addrpct sector beat post   xcoord   ycoord dettypcm  \\\n",
       "0      CPW  ...           41      G    7       1013067  0238633       CM   \n",
       "1     BURG  ...          108      J            1012043  0212157       CM   \n",
       "2     MISD  ...           43      E            1017599  0240200       CM   \n",
       "3      MIS  ...           77      J    4   35  1002625  0183442       CM   \n",
       "4      CPW  ...          110      H            1024535  0209890       CM   \n",
       "\n",
       "   linecm  detailcm  \n",
       "0       1        20  \n",
       "1       1        14  \n",
       "2       1        20  \n",
       "3       1        24  \n",
       "4       1        20  \n",
       "\n",
       "[5 rows x 111 columns]"
      ]
     },
     "execution_count": 7,
     "metadata": {},
     "output_type": "execute_result"
    }
   ],
   "source": [
    "df_train.head()"
   ]
  },
  {
   "cell_type": "code",
   "execution_count": 8,
   "metadata": {},
   "outputs": [
    {
     "data": {
      "text/html": [
       "<div>\n",
       "<style scoped>\n",
       "    .dataframe tbody tr th:only-of-type {\n",
       "        vertical-align: middle;\n",
       "    }\n",
       "\n",
       "    .dataframe tbody tr th {\n",
       "        vertical-align: top;\n",
       "    }\n",
       "\n",
       "    .dataframe thead th {\n",
       "        text-align: right;\n",
       "    }\n",
       "</style>\n",
       "<table border=\"1\" class=\"dataframe\">\n",
       "  <thead>\n",
       "    <tr style=\"text-align: right;\">\n",
       "      <th></th>\n",
       "      <th>year</th>\n",
       "      <th>pct</th>\n",
       "      <th>ser_num</th>\n",
       "      <th>datestop</th>\n",
       "      <th>timestop</th>\n",
       "      <th>perobs</th>\n",
       "      <th>perstop</th>\n",
       "      <th>compyear</th>\n",
       "      <th>comppct</th>\n",
       "      <th>repcmd</th>\n",
       "      <th>revcmd</th>\n",
       "      <th>dob</th>\n",
       "      <th>age</th>\n",
       "      <th>ht_feet</th>\n",
       "      <th>ht_inch</th>\n",
       "      <th>weight</th>\n",
       "      <th>addrpct</th>\n",
       "      <th>linecm</th>\n",
       "      <th>detailcm</th>\n",
       "    </tr>\n",
       "  </thead>\n",
       "  <tbody>\n",
       "    <tr>\n",
       "      <td>count</td>\n",
       "      <td>5812.0</td>\n",
       "      <td>5812.000000</td>\n",
       "      <td>5812.000000</td>\n",
       "      <td>5.812000e+03</td>\n",
       "      <td>5812.000000</td>\n",
       "      <td>5812.000000</td>\n",
       "      <td>5812.000000</td>\n",
       "      <td>5812.0</td>\n",
       "      <td>5812.0</td>\n",
       "      <td>5812.000000</td>\n",
       "      <td>5812.000000</td>\n",
       "      <td>5.812000e+03</td>\n",
       "      <td>5812.000000</td>\n",
       "      <td>5812.000000</td>\n",
       "      <td>5812.000000</td>\n",
       "      <td>5812.000000</td>\n",
       "      <td>5812.000000</td>\n",
       "      <td>5812.0</td>\n",
       "      <td>5812.000000</td>\n",
       "    </tr>\n",
       "    <tr>\n",
       "      <td>mean</td>\n",
       "      <td>2009.0</td>\n",
       "      <td>69.051617</td>\n",
       "      <td>5769.119924</td>\n",
       "      <td>6.255350e+06</td>\n",
       "      <td>1426.219202</td>\n",
       "      <td>2.665893</td>\n",
       "      <td>5.501893</td>\n",
       "      <td>0.0</td>\n",
       "      <td>0.0</td>\n",
       "      <td>252.115795</td>\n",
       "      <td>249.074845</td>\n",
       "      <td>6.941142e+06</td>\n",
       "      <td>28.874054</td>\n",
       "      <td>5.188231</td>\n",
       "      <td>6.414315</td>\n",
       "      <td>169.942533</td>\n",
       "      <td>69.051617</td>\n",
       "      <td>1.0</td>\n",
       "      <td>37.488644</td>\n",
       "    </tr>\n",
       "    <tr>\n",
       "      <td>std</td>\n",
       "      <td>0.0</td>\n",
       "      <td>32.846903</td>\n",
       "      <td>5524.955522</td>\n",
       "      <td>3.447243e+06</td>\n",
       "      <td>736.239726</td>\n",
       "      <td>4.816704</td>\n",
       "      <td>5.922592</td>\n",
       "      <td>0.0</td>\n",
       "      <td>0.0</td>\n",
       "      <td>305.058678</td>\n",
       "      <td>306.222306</td>\n",
       "      <td>3.552806e+06</td>\n",
       "      <td>26.067172</td>\n",
       "      <td>0.402213</td>\n",
       "      <td>3.446479</td>\n",
       "      <td>37.653637</td>\n",
       "      <td>32.846903</td>\n",
       "      <td>0.0</td>\n",
       "      <td>25.059538</td>\n",
       "    </tr>\n",
       "    <tr>\n",
       "      <td>min</td>\n",
       "      <td>2009.0</td>\n",
       "      <td>1.000000</td>\n",
       "      <td>1.000000</td>\n",
       "      <td>1.012009e+06</td>\n",
       "      <td>0.000000</td>\n",
       "      <td>0.000000</td>\n",
       "      <td>1.000000</td>\n",
       "      <td>0.0</td>\n",
       "      <td>0.0</td>\n",
       "      <td>1.000000</td>\n",
       "      <td>1.000000</td>\n",
       "      <td>1.011900e+06</td>\n",
       "      <td>1.000000</td>\n",
       "      <td>3.000000</td>\n",
       "      <td>0.000000</td>\n",
       "      <td>1.000000</td>\n",
       "      <td>1.000000</td>\n",
       "      <td>1.0</td>\n",
       "      <td>6.000000</td>\n",
       "    </tr>\n",
       "    <tr>\n",
       "      <td>25%</td>\n",
       "      <td>2009.0</td>\n",
       "      <td>42.000000</td>\n",
       "      <td>1902.750000</td>\n",
       "      <td>3.172009e+06</td>\n",
       "      <td>1030.000000</td>\n",
       "      <td>1.000000</td>\n",
       "      <td>3.000000</td>\n",
       "      <td>0.0</td>\n",
       "      <td>0.0</td>\n",
       "      <td>70.000000</td>\n",
       "      <td>67.000000</td>\n",
       "      <td>4.061986e+06</td>\n",
       "      <td>19.000000</td>\n",
       "      <td>5.000000</td>\n",
       "      <td>4.000000</td>\n",
       "      <td>150.000000</td>\n",
       "      <td>42.000000</td>\n",
       "      <td>1.0</td>\n",
       "      <td>20.000000</td>\n",
       "    </tr>\n",
       "    <tr>\n",
       "      <td>50%</td>\n",
       "      <td>2009.0</td>\n",
       "      <td>73.000000</td>\n",
       "      <td>4347.000000</td>\n",
       "      <td>6.142009e+06</td>\n",
       "      <td>1605.000000</td>\n",
       "      <td>1.000000</td>\n",
       "      <td>5.000000</td>\n",
       "      <td>0.0</td>\n",
       "      <td>0.0</td>\n",
       "      <td>105.000000</td>\n",
       "      <td>103.000000</td>\n",
       "      <td>7.121980e+06</td>\n",
       "      <td>25.000000</td>\n",
       "      <td>5.000000</td>\n",
       "      <td>7.000000</td>\n",
       "      <td>170.000000</td>\n",
       "      <td>73.000000</td>\n",
       "      <td>1.0</td>\n",
       "      <td>28.000000</td>\n",
       "    </tr>\n",
       "    <tr>\n",
       "      <td>75%</td>\n",
       "      <td>2009.0</td>\n",
       "      <td>102.000000</td>\n",
       "      <td>7616.750000</td>\n",
       "      <td>9.192009e+06</td>\n",
       "      <td>2035.000000</td>\n",
       "      <td>3.000000</td>\n",
       "      <td>5.000000</td>\n",
       "      <td>0.0</td>\n",
       "      <td>0.0</td>\n",
       "      <td>178.000000</td>\n",
       "      <td>178.750000</td>\n",
       "      <td>1.012198e+07</td>\n",
       "      <td>34.000000</td>\n",
       "      <td>5.000000</td>\n",
       "      <td>9.000000</td>\n",
       "      <td>180.000000</td>\n",
       "      <td>102.000000</td>\n",
       "      <td>1.0</td>\n",
       "      <td>46.000000</td>\n",
       "    </tr>\n",
       "    <tr>\n",
       "      <td>max</td>\n",
       "      <td>2009.0</td>\n",
       "      <td>123.000000</td>\n",
       "      <td>31694.000000</td>\n",
       "      <td>1.231201e+07</td>\n",
       "      <td>2830.000000</td>\n",
       "      <td>200.000000</td>\n",
       "      <td>200.000000</td>\n",
       "      <td>0.0</td>\n",
       "      <td>0.0</td>\n",
       "      <td>879.000000</td>\n",
       "      <td>879.000000</td>\n",
       "      <td>1.231199e+07</td>\n",
       "      <td>999.000000</td>\n",
       "      <td>7.000000</td>\n",
       "      <td>11.000000</td>\n",
       "      <td>999.000000</td>\n",
       "      <td>123.000000</td>\n",
       "      <td>1.0</td>\n",
       "      <td>113.000000</td>\n",
       "    </tr>\n",
       "  </tbody>\n",
       "</table>\n",
       "</div>"
      ],
      "text/plain": [
       "         year          pct       ser_num      datestop     timestop  \\\n",
       "count  5812.0  5812.000000   5812.000000  5.812000e+03  5812.000000   \n",
       "mean   2009.0    69.051617   5769.119924  6.255350e+06  1426.219202   \n",
       "std       0.0    32.846903   5524.955522  3.447243e+06   736.239726   \n",
       "min    2009.0     1.000000      1.000000  1.012009e+06     0.000000   \n",
       "25%    2009.0    42.000000   1902.750000  3.172009e+06  1030.000000   \n",
       "50%    2009.0    73.000000   4347.000000  6.142009e+06  1605.000000   \n",
       "75%    2009.0   102.000000   7616.750000  9.192009e+06  2035.000000   \n",
       "max    2009.0   123.000000  31694.000000  1.231201e+07  2830.000000   \n",
       "\n",
       "            perobs      perstop  compyear  comppct       repcmd       revcmd  \\\n",
       "count  5812.000000  5812.000000    5812.0   5812.0  5812.000000  5812.000000   \n",
       "mean      2.665893     5.501893       0.0      0.0   252.115795   249.074845   \n",
       "std       4.816704     5.922592       0.0      0.0   305.058678   306.222306   \n",
       "min       0.000000     1.000000       0.0      0.0     1.000000     1.000000   \n",
       "25%       1.000000     3.000000       0.0      0.0    70.000000    67.000000   \n",
       "50%       1.000000     5.000000       0.0      0.0   105.000000   103.000000   \n",
       "75%       3.000000     5.000000       0.0      0.0   178.000000   178.750000   \n",
       "max     200.000000   200.000000       0.0      0.0   879.000000   879.000000   \n",
       "\n",
       "                dob          age      ht_feet      ht_inch       weight  \\\n",
       "count  5.812000e+03  5812.000000  5812.000000  5812.000000  5812.000000   \n",
       "mean   6.941142e+06    28.874054     5.188231     6.414315   169.942533   \n",
       "std    3.552806e+06    26.067172     0.402213     3.446479    37.653637   \n",
       "min    1.011900e+06     1.000000     3.000000     0.000000     1.000000   \n",
       "25%    4.061986e+06    19.000000     5.000000     4.000000   150.000000   \n",
       "50%    7.121980e+06    25.000000     5.000000     7.000000   170.000000   \n",
       "75%    1.012198e+07    34.000000     5.000000     9.000000   180.000000   \n",
       "max    1.231199e+07   999.000000     7.000000    11.000000   999.000000   \n",
       "\n",
       "           addrpct  linecm     detailcm  \n",
       "count  5812.000000  5812.0  5812.000000  \n",
       "mean     69.051617     1.0    37.488644  \n",
       "std      32.846903     0.0    25.059538  \n",
       "min       1.000000     1.0     6.000000  \n",
       "25%      42.000000     1.0    20.000000  \n",
       "50%      73.000000     1.0    28.000000  \n",
       "75%     102.000000     1.0    46.000000  \n",
       "max     123.000000     1.0   113.000000  "
      ]
     },
     "execution_count": 8,
     "metadata": {},
     "output_type": "execute_result"
    }
   ],
   "source": [
    "df_train.describe()"
   ]
  },
  {
   "cell_type": "markdown",
   "metadata": {},
   "source": [
    "#### Normalización de la cantidad de atributos, con la función _create_suitable_dataframe_ para igualar el benchmark de los atributos."
   ]
  },
  {
   "cell_type": "code",
   "execution_count": 9,
   "metadata": {},
   "outputs": [
    {
     "name": "stdout",
     "output_type": "stream",
     "text": [
      "['year', 'pct', 'ser_num', 'datestop', 'timestop', 'perstop', 'compyear', 'comppct', 'repcmd', 'revcmd', 'dob', 'age', 'ht_feet', 'ht_inch', 'weight', 'addrpct', 'linecm', 'detailcm', 'perobs']\n"
     ]
    }
   ],
   "source": [
    "df_train_proc, cat_attributes, num_attributes = prep.create_suitable_dataframe(df_train)"
   ]
  },
  {
   "cell_type": "code",
   "execution_count": 10,
   "metadata": {},
   "outputs": [
    {
     "data": {
      "text/plain": [
       "(4636, 74)"
      ]
     },
     "execution_count": 10,
     "metadata": {},
     "output_type": "execute_result"
    }
   ],
   "source": [
    "df_train_proc.shape"
   ]
  },
  {
   "cell_type": "markdown",
   "metadata": {},
   "source": [
    "Corrección de un valor de la variable **city** en la matriz de test para que se llame igual que en el conjunto de entrenamiento."
   ]
  },
  {
   "cell_type": "code",
   "execution_count": 11,
   "metadata": {},
   "outputs": [],
   "source": [
    "df_test['city'] = np.where(df_test['city'] == 'STATEN IS' ,'STATEN ISLAND', df_test['city'])"
   ]
  },
  {
   "cell_type": "code",
   "execution_count": 12,
   "metadata": {},
   "outputs": [
    {
     "data": {
      "text/html": [
       "<div>\n",
       "<style scoped>\n",
       "    .dataframe tbody tr th:only-of-type {\n",
       "        vertical-align: middle;\n",
       "    }\n",
       "\n",
       "    .dataframe tbody tr th {\n",
       "        vertical-align: top;\n",
       "    }\n",
       "\n",
       "    .dataframe thead th {\n",
       "        text-align: right;\n",
       "    }\n",
       "</style>\n",
       "<table border=\"1\" class=\"dataframe\">\n",
       "  <thead>\n",
       "    <tr style=\"text-align: right;\">\n",
       "      <th></th>\n",
       "      <th>year</th>\n",
       "      <th>pct</th>\n",
       "      <th>ser_num</th>\n",
       "      <th>datestop</th>\n",
       "      <th>timestop</th>\n",
       "      <th>recstat</th>\n",
       "      <th>inout</th>\n",
       "      <th>trhsloc</th>\n",
       "      <th>perobs</th>\n",
       "      <th>crimsusp</th>\n",
       "      <th>...</th>\n",
       "      <th>beat</th>\n",
       "      <th>post</th>\n",
       "      <th>xcoord</th>\n",
       "      <th>ycoord</th>\n",
       "      <th>dettypcm</th>\n",
       "      <th>linecm</th>\n",
       "      <th>detailcm</th>\n",
       "      <th>meters</th>\n",
       "      <th>month</th>\n",
       "      <th>age_individual</th>\n",
       "    </tr>\n",
       "  </thead>\n",
       "  <tbody>\n",
       "    <tr>\n",
       "      <td>0</td>\n",
       "      <td>2009</td>\n",
       "      <td>41</td>\n",
       "      <td>1779</td>\n",
       "      <td>4032009</td>\n",
       "      <td>130</td>\n",
       "      <td>A</td>\n",
       "      <td>O</td>\n",
       "      <td>P</td>\n",
       "      <td>1.0</td>\n",
       "      <td>CPW</td>\n",
       "      <td>...</td>\n",
       "      <td>7</td>\n",
       "      <td></td>\n",
       "      <td>1013067</td>\n",
       "      <td>0238633</td>\n",
       "      <td>CM</td>\n",
       "      <td>1</td>\n",
       "      <td>20</td>\n",
       "      <td>1.79832</td>\n",
       "      <td>4</td>\n",
       "      <td>24.0</td>\n",
       "    </tr>\n",
       "    <tr>\n",
       "      <td>1</td>\n",
       "      <td>2009</td>\n",
       "      <td>108</td>\n",
       "      <td>5805</td>\n",
       "      <td>10292009</td>\n",
       "      <td>1050</td>\n",
       "      <td>A</td>\n",
       "      <td>O</td>\n",
       "      <td>P</td>\n",
       "      <td>3.0</td>\n",
       "      <td>BURG</td>\n",
       "      <td>...</td>\n",
       "      <td>U</td>\n",
       "      <td></td>\n",
       "      <td>1012043</td>\n",
       "      <td>0212157</td>\n",
       "      <td>CM</td>\n",
       "      <td>1</td>\n",
       "      <td>14</td>\n",
       "      <td>1.67640</td>\n",
       "      <td>10</td>\n",
       "      <td>NaN</td>\n",
       "    </tr>\n",
       "    <tr>\n",
       "      <td>2</td>\n",
       "      <td>2009</td>\n",
       "      <td>43</td>\n",
       "      <td>8340</td>\n",
       "      <td>10062009</td>\n",
       "      <td>1450</td>\n",
       "      <td>1</td>\n",
       "      <td>O</td>\n",
       "      <td>P</td>\n",
       "      <td>1.0</td>\n",
       "      <td>MISD</td>\n",
       "      <td>...</td>\n",
       "      <td>U</td>\n",
       "      <td></td>\n",
       "      <td>1017599</td>\n",
       "      <td>0240200</td>\n",
       "      <td>CM</td>\n",
       "      <td>1</td>\n",
       "      <td>20</td>\n",
       "      <td>1.92024</td>\n",
       "      <td>10</td>\n",
       "      <td>21.0</td>\n",
       "    </tr>\n",
       "    <tr>\n",
       "      <td>3</td>\n",
       "      <td>2009</td>\n",
       "      <td>77</td>\n",
       "      <td>932</td>\n",
       "      <td>1232009</td>\n",
       "      <td>1843</td>\n",
       "      <td>A</td>\n",
       "      <td>O</td>\n",
       "      <td>P</td>\n",
       "      <td>5.0</td>\n",
       "      <td>MIS</td>\n",
       "      <td>...</td>\n",
       "      <td>4</td>\n",
       "      <td>35</td>\n",
       "      <td>1002625</td>\n",
       "      <td>0183442</td>\n",
       "      <td>CM</td>\n",
       "      <td>1</td>\n",
       "      <td>24</td>\n",
       "      <td>1.67640</td>\n",
       "      <td>12</td>\n",
       "      <td>22.0</td>\n",
       "    </tr>\n",
       "    <tr>\n",
       "      <td>4</td>\n",
       "      <td>2009</td>\n",
       "      <td>110</td>\n",
       "      <td>11224</td>\n",
       "      <td>12132009</td>\n",
       "      <td>1655</td>\n",
       "      <td>A</td>\n",
       "      <td>O</td>\n",
       "      <td>P</td>\n",
       "      <td>3.0</td>\n",
       "      <td>CPW</td>\n",
       "      <td>...</td>\n",
       "      <td>U</td>\n",
       "      <td></td>\n",
       "      <td>1024535</td>\n",
       "      <td>0209890</td>\n",
       "      <td>CM</td>\n",
       "      <td>1</td>\n",
       "      <td>20</td>\n",
       "      <td>1.70688</td>\n",
       "      <td>12</td>\n",
       "      <td>NaN</td>\n",
       "    </tr>\n",
       "  </tbody>\n",
       "</table>\n",
       "<p>5 rows × 114 columns</p>\n",
       "</div>"
      ],
      "text/plain": [
       "   year  pct  ser_num  datestop  timestop recstat inout trhsloc  perobs  \\\n",
       "0  2009   41     1779   4032009       130       A     O       P     1.0   \n",
       "1  2009  108     5805  10292009      1050       A     O       P     3.0   \n",
       "2  2009   43     8340  10062009      1450       1     O       P     1.0   \n",
       "3  2009   77      932   1232009      1843       A     O       P     5.0   \n",
       "4  2009  110    11224  12132009      1655       A     O       P     3.0   \n",
       "\n",
       "  crimsusp  ...  beat post   xcoord   ycoord dettypcm linecm detailcm  \\\n",
       "0      CPW  ...     7       1013067  0238633       CM      1       20   \n",
       "1     BURG  ...     U       1012043  0212157       CM      1       14   \n",
       "2     MISD  ...     U       1017599  0240200       CM      1       20   \n",
       "3      MIS  ...     4   35  1002625  0183442       CM      1       24   \n",
       "4      CPW  ...     U       1024535  0209890       CM      1       20   \n",
       "\n",
       "    meters  month  age_individual  \n",
       "0  1.79832      4            24.0  \n",
       "1  1.67640     10             NaN  \n",
       "2  1.92024     10            21.0  \n",
       "3  1.67640     12            22.0  \n",
       "4  1.70688     12             NaN  \n",
       "\n",
       "[5 rows x 114 columns]"
      ]
     },
     "execution_count": 12,
     "metadata": {},
     "output_type": "execute_result"
    }
   ],
   "source": [
    "df_train.head()"
   ]
  },
  {
   "cell_type": "markdown",
   "metadata": {},
   "source": [
    "#### Varibale Objetivo: **_arstmade_** (Was an arresst made?)\n",
    "Corresponde a una variable categórica que indica si el procedimiento policial concluirá en arresto o no."
   ]
  },
  {
   "cell_type": "code",
   "execution_count": 13,
   "metadata": {},
   "outputs": [
    {
     "data": {
      "text/plain": [
       "N    4355\n",
       "Y     281\n",
       "Name: arstmade, dtype: int64"
      ]
     },
     "execution_count": 13,
     "metadata": {},
     "output_type": "execute_result"
    }
   ],
   "source": [
    "df_train_proc['arstmade'].value_counts()"
   ]
  },
  {
   "cell_type": "code",
   "execution_count": 14,
   "metadata": {},
   "outputs": [
    {
     "data": {
      "image/png": "[encoded data removed]",
      "text/plain": [
       "<Figure size 720x720 with 1 Axes>"
      ]
     },
     "metadata": {},
     "output_type": "display_data"
    }
   ],
   "source": [
    "#VARIABLE ARSTMADE\n",
    "plt.rcParams[\"figure.figsize\"] = (10, 10)\n",
    "plt.rcParams[\"ytick.labelsize\"] = 15\n",
    "plt.rcParams[\"xtick.labelsize\"] = 15\n",
    "plt.title('Cantidad de procedimientos que concluyen en arresto (Y) o no (N)')\n",
    "sns.countplot(x = 'arstmade', data = df_train);"
   ]
  },
  {
   "cell_type": "markdown",
   "metadata": {},
   "source": [
    "Del gráfico se desprende que 4355 procedimientos policiales no termina en arresto,siendo la mayoría, en comparación a 281 procedimientos que sí terminan en arresto."
   ]
  },
  {
   "cell_type": "markdown",
   "metadata": {},
   "source": [
    "### Gráficos de variables que caracterizan al sujeto\n",
    "'sex','race','dob','age','ht_feet','ht_inch','weight','haircolr','eyecolor','build'"
   ]
  },
  {
   "cell_type": "code",
   "execution_count": 15,
   "metadata": {
    "scrolled": true
   },
   "outputs": [
    {
     "data": {
      "image/png": "[encoded data removed]",
      "text/plain": [
       "<Figure size 1152x720 with 12 Axes>"
      ]
     },
     "metadata": {},
     "output_type": "display_data"
    }
   ],
   "source": [
    "var_individuo = ['sex','race','dob','age','ht_feet','ht_inch','weight','haircolr','eyecolor','build']\n",
    "df_train_ind = df_train.loc[:,var_individuo]\n",
    "\n",
    "plt.subplots(3,4, figsize=(16,10))\n",
    "plt.subplots_adjust(hspace=0.6)\n",
    "for index, (colnames, serie) in enumerate(df_train_ind.iteritems()):\n",
    "    plt.subplot(3,4,index+1)\n",
    "    if serie.dtype == 'object':\n",
    "        sns.countplot(df_train_ind[colnames])\n",
    "    else:\n",
    "        sns.distplot(df_train_ind[colnames])\n",
    "    plt.title(colnames)"
   ]
  },
  {
   "cell_type": "code",
   "execution_count": 16,
   "metadata": {},
   "outputs": [
    {
     "data": {
      "image/png": "[encoded data removed]",
      "text/plain": [
       "<Figure size 1080x288 with 2 Axes>"
      ]
     },
     "metadata": {},
     "output_type": "display_data"
    }
   ],
   "source": [
    "plt.subplots(1,2,figsize=(15,4))\n",
    "plt.subplot(1,2,1)\n",
    "sns.boxplot(df_train_ind['weight'])\n",
    "plt.title('Boxplot de la variable peso')\n",
    "plt.subplot(1,2,2)\n",
    "sns.boxplot(df_train_ind['age'])\n",
    "plt.title('Boxplot de la variable edad');"
   ]
  },
  {
   "cell_type": "markdown",
   "metadata": {},
   "source": [
    "En las variables **weight** y **age** se encuentran outliers muy extremos los cuales se eliminarán ya que los datos no tienen sentido y es muy probable que estos sean errores.\n"
   ]
  },
  {
   "cell_type": "code",
   "execution_count": 17,
   "metadata": {},
   "outputs": [],
   "source": [
    "df_train = df_train.drop(df_train[df_train['age'] >= 99]['age'].index, axis = 0)\n",
    "df_train = df_train.drop(df_train[df_train['weight'] >500]['age'].index, axis = 0)"
   ]
  },
  {
   "cell_type": "markdown",
   "metadata": {},
   "source": [
    "#### Analisis variables\n",
    "- Se observan varibles con distribuciones muy parecidas a la normal. \n",
    "- La variable objetivo presenta clases gravemente desbalanceadas por lo que mas adelante, en la ingenieria de atributos, sería buena idea aplicar un oversampling "
   ]
  },
  {
   "cell_type": "markdown",
   "metadata": {},
   "source": [
    "#### Valores perdidos"
   ]
  },
  {
   "cell_type": "code",
   "execution_count": 18,
   "metadata": {},
   "outputs": [
    {
     "data": {
      "image/png": "[encoded data removed]",
      "text/plain": [
       "<Figure size 1800x720 with 2 Axes>"
      ]
     },
     "metadata": {},
     "output_type": "display_data"
    }
   ],
   "source": [
    "#matriz de valores nulos df\n",
    "msno.matrix(df_train)\n",
    "plt.show()\n"
   ]
  },
  {
   "cell_type": "code",
   "execution_count": 19,
   "metadata": {
    "scrolled": true
   },
   "outputs": [
    {
     "data": {
      "text/plain": [
       "age_individual    1165\n",
       "asltweap             0\n",
       "machgun              0\n",
       "othrweap             0\n",
       "pf_hands             0\n",
       "                  ... \n",
       "sex                  0\n",
       "race                 0\n",
       "dob                  0\n",
       "age                  0\n",
       "year                 0\n",
       "Length: 114, dtype: int64"
      ]
     },
     "execution_count": 19,
     "metadata": {},
     "output_type": "execute_result"
    }
   ],
   "source": [
    "df_train.isnull().sum().sort_values(ascending=False)"
   ]
  },
  {
   "cell_type": "code",
   "execution_count": 20,
   "metadata": {},
   "outputs": [
    {
     "data": {
      "text/plain": [
       "0.2014873746108613"
      ]
     },
     "execution_count": 20,
     "metadata": {},
     "output_type": "execute_result"
    }
   ],
   "source": [
    "df_train['age_individual'].isna().sum()/len(df_train)"
   ]
  },
  {
   "cell_type": "markdown",
   "metadata": {},
   "source": [
    "La variable **age_individual** es la unica que presenta valores nulos el cual representa el 20% de dataframe"
   ]
  },
  {
   "cell_type": "markdown",
   "metadata": {},
   "source": [
    "### IV. FEATURE ENGINEERING\n",
    "* Recodificaciones y transformaciones a realizar."
   ]
  },
  {
   "cell_type": "markdown",
   "metadata": {},
   "source": [
    "### 1. DF modelo _arstmade_ (Was an arresst made?) "
   ]
  },
  {
   "cell_type": "markdown",
   "metadata": {},
   "source": [
    "#### BINARIZACION DE VARIABLES "
   ]
  },
  {
   "cell_type": "code",
   "execution_count": 95,
   "metadata": {},
   "outputs": [],
   "source": [
    "df_train['arstmade'] = np.where(df_train['arstmade'] == 'Y',1,0)\n",
    "df_test['arstmade'] = np.where(df_test['arstmade'] == 'Y',1,0)"
   ]
  },
  {
   "cell_type": "markdown",
   "metadata": {},
   "source": [
    "### Variables que caracterizan al sujeto a incluir en el df2 (train y test):\n",
    "Corresponden a una serie de variables (10) que permiten determinar las características del sospechoso.\n",
    "- 'sex'\n",
    "- 'race'\n",
    "- 'dob'\n",
    "- 'age'\n",
    "- 'ht_feet' \n",
    "- 'ht_inch'\n",
    "- 'weight'\n",
    "- 'haircolr'\n",
    "- 'eyecolor'\n",
    "- 'build'"
   ]
  },
  {
   "cell_type": "code",
   "execution_count": 22,
   "metadata": {},
   "outputs": [],
   "source": [
    "df_train_2 = df_train.loc[:,['arstmade','sex','race','dob','age','ht_feet','ht_inch','weight','haircolr','eyecolor','build']]\n",
    "df_test_2 = df_test.loc[:,['arstmade','sex','race','dob','age','ht_feet','ht_inch','weight','haircolr','eyecolor','build']]"
   ]
  },
  {
   "cell_type": "code",
   "execution_count": 23,
   "metadata": {},
   "outputs": [],
   "source": [
    "df_train_2 = pd.get_dummies(df_train_2, drop_first=True)\n",
    "df_test_2 = pd.get_dummies(df_test_2, drop_first=True)"
   ]
  },
  {
   "cell_type": "code",
   "execution_count": 24,
   "metadata": {},
   "outputs": [],
   "source": [
    "x_train = df_train_2.drop('arstmade',axis = 1)\n",
    "y_train = df_train_2['arstmade']\n",
    "x_test = df_test_2.drop('arstmade',axis = 1)\n",
    "y_test = df_test_2['arstmade']"
   ]
  },
  {
   "cell_type": "code",
   "execution_count": 25,
   "metadata": {
    "scrolled": true
   },
   "outputs": [
    {
     "data": {
      "text/html": [
       "<div>\n",
       "<style scoped>\n",
       "    .dataframe tbody tr th:only-of-type {\n",
       "        vertical-align: middle;\n",
       "    }\n",
       "\n",
       "    .dataframe tbody tr th {\n",
       "        vertical-align: top;\n",
       "    }\n",
       "\n",
       "    .dataframe thead th {\n",
       "        text-align: right;\n",
       "    }\n",
       "</style>\n",
       "<table border=\"1\" class=\"dataframe\">\n",
       "  <thead>\n",
       "    <tr style=\"text-align: right;\">\n",
       "      <th></th>\n",
       "      <th>arstmade</th>\n",
       "      <th>dob</th>\n",
       "      <th>age</th>\n",
       "      <th>ht_feet</th>\n",
       "      <th>ht_inch</th>\n",
       "      <th>weight</th>\n",
       "      <th>sex_M</th>\n",
       "      <th>sex_Z</th>\n",
       "      <th>race_B</th>\n",
       "      <th>race_I</th>\n",
       "      <th>...</th>\n",
       "      <th>eyecolor_GR</th>\n",
       "      <th>eyecolor_GY</th>\n",
       "      <th>eyecolor_HA</th>\n",
       "      <th>eyecolor_MA</th>\n",
       "      <th>eyecolor_XX</th>\n",
       "      <th>eyecolor_Z</th>\n",
       "      <th>build_M</th>\n",
       "      <th>build_T</th>\n",
       "      <th>build_U</th>\n",
       "      <th>build_Z</th>\n",
       "    </tr>\n",
       "  </thead>\n",
       "  <tbody>\n",
       "    <tr>\n",
       "      <td>0</td>\n",
       "      <td>0</td>\n",
       "      <td>7111984</td>\n",
       "      <td>24</td>\n",
       "      <td>5</td>\n",
       "      <td>9</td>\n",
       "      <td>145</td>\n",
       "      <td>1</td>\n",
       "      <td>0</td>\n",
       "      <td>1</td>\n",
       "      <td>0</td>\n",
       "      <td>...</td>\n",
       "      <td>0</td>\n",
       "      <td>0</td>\n",
       "      <td>0</td>\n",
       "      <td>0</td>\n",
       "      <td>0</td>\n",
       "      <td>0</td>\n",
       "      <td>1</td>\n",
       "      <td>0</td>\n",
       "      <td>0</td>\n",
       "      <td>0</td>\n",
       "    </tr>\n",
       "    <tr>\n",
       "      <td>1</td>\n",
       "      <td>0</td>\n",
       "      <td>12151993</td>\n",
       "      <td>15</td>\n",
       "      <td>5</td>\n",
       "      <td>5</td>\n",
       "      <td>140</td>\n",
       "      <td>1</td>\n",
       "      <td>0</td>\n",
       "      <td>0</td>\n",
       "      <td>0</td>\n",
       "      <td>...</td>\n",
       "      <td>0</td>\n",
       "      <td>0</td>\n",
       "      <td>0</td>\n",
       "      <td>0</td>\n",
       "      <td>0</td>\n",
       "      <td>0</td>\n",
       "      <td>0</td>\n",
       "      <td>1</td>\n",
       "      <td>0</td>\n",
       "      <td>0</td>\n",
       "    </tr>\n",
       "    <tr>\n",
       "      <td>2</td>\n",
       "      <td>0</td>\n",
       "      <td>7031987</td>\n",
       "      <td>21</td>\n",
       "      <td>6</td>\n",
       "      <td>3</td>\n",
       "      <td>220</td>\n",
       "      <td>1</td>\n",
       "      <td>0</td>\n",
       "      <td>0</td>\n",
       "      <td>0</td>\n",
       "      <td>...</td>\n",
       "      <td>0</td>\n",
       "      <td>0</td>\n",
       "      <td>0</td>\n",
       "      <td>0</td>\n",
       "      <td>0</td>\n",
       "      <td>0</td>\n",
       "      <td>1</td>\n",
       "      <td>0</td>\n",
       "      <td>0</td>\n",
       "      <td>0</td>\n",
       "    </tr>\n",
       "    <tr>\n",
       "      <td>3</td>\n",
       "      <td>0</td>\n",
       "      <td>3131986</td>\n",
       "      <td>22</td>\n",
       "      <td>5</td>\n",
       "      <td>5</td>\n",
       "      <td>120</td>\n",
       "      <td>1</td>\n",
       "      <td>0</td>\n",
       "      <td>1</td>\n",
       "      <td>0</td>\n",
       "      <td>...</td>\n",
       "      <td>0</td>\n",
       "      <td>0</td>\n",
       "      <td>0</td>\n",
       "      <td>0</td>\n",
       "      <td>0</td>\n",
       "      <td>0</td>\n",
       "      <td>0</td>\n",
       "      <td>1</td>\n",
       "      <td>0</td>\n",
       "      <td>0</td>\n",
       "    </tr>\n",
       "    <tr>\n",
       "      <td>4</td>\n",
       "      <td>0</td>\n",
       "      <td>9221991</td>\n",
       "      <td>18</td>\n",
       "      <td>5</td>\n",
       "      <td>6</td>\n",
       "      <td>165</td>\n",
       "      <td>1</td>\n",
       "      <td>0</td>\n",
       "      <td>0</td>\n",
       "      <td>0</td>\n",
       "      <td>...</td>\n",
       "      <td>0</td>\n",
       "      <td>0</td>\n",
       "      <td>0</td>\n",
       "      <td>0</td>\n",
       "      <td>0</td>\n",
       "      <td>0</td>\n",
       "      <td>1</td>\n",
       "      <td>0</td>\n",
       "      <td>0</td>\n",
       "      <td>0</td>\n",
       "    </tr>\n",
       "  </tbody>\n",
       "</table>\n",
       "<p>5 rows × 38 columns</p>\n",
       "</div>"
      ],
      "text/plain": [
       "   arstmade       dob  age  ht_feet  ht_inch  weight  sex_M  sex_Z  race_B  \\\n",
       "0         0   7111984   24        5        9     145      1      0       1   \n",
       "1         0  12151993   15        5        5     140      1      0       0   \n",
       "2         0   7031987   21        6        3     220      1      0       0   \n",
       "3         0   3131986   22        5        5     120      1      0       1   \n",
       "4         0   9221991   18        5        6     165      1      0       0   \n",
       "\n",
       "   race_I  ...  eyecolor_GR  eyecolor_GY  eyecolor_HA  eyecolor_MA  \\\n",
       "0       0  ...            0            0            0            0   \n",
       "1       0  ...            0            0            0            0   \n",
       "2       0  ...            0            0            0            0   \n",
       "3       0  ...            0            0            0            0   \n",
       "4       0  ...            0            0            0            0   \n",
       "\n",
       "   eyecolor_XX  eyecolor_Z  build_M  build_T  build_U  build_Z  \n",
       "0            0           0        1        0        0        0  \n",
       "1            0           0        0        1        0        0  \n",
       "2            0           0        1        0        0        0  \n",
       "3            0           0        0        1        0        0  \n",
       "4            0           0        1        0        0        0  \n",
       "\n",
       "[5 rows x 38 columns]"
      ]
     },
     "execution_count": 25,
     "metadata": {},
     "output_type": "execute_result"
    }
   ],
   "source": [
    "df_train_2.head()"
   ]
  },
  {
   "cell_type": "code",
   "execution_count": 26,
   "metadata": {},
   "outputs": [
    {
     "name": "stdout",
     "output_type": "stream",
     "text": [
      "(5782, 37)\n",
      "(5782,)\n",
      "(6013, 37)\n",
      "(6013,)\n"
     ]
    }
   ],
   "source": [
    "print(x_train.shape)\n",
    "print(y_train.shape)\n",
    "print(x_test.shape)\n",
    "print(y_test.shape)"
   ]
  },
  {
   "cell_type": "markdown",
   "metadata": {},
   "source": [
    "#### Correlaciones de variable arstmade con df_train_2 sin aplicar función de normalización  de atributos ( _create_suitable_dataframe_)\n"
   ]
  },
  {
   "cell_type": "code",
   "execution_count": 27,
   "metadata": {
    "scrolled": true
   },
   "outputs": [
    {
     "data": {
      "text/html": [
       "<style  type=\"text/css\" >\n",
       "    #T_4e4986e2_ff3c_11e9_b47d_3c15c2c131bcrow0_col0 {\n",
       "            background-color:  #fde725;\n",
       "            color:  #000000;\n",
       "        }    #T_4e4986e2_ff3c_11e9_b47d_3c15c2c131bcrow1_col0 {\n",
       "            background-color:  #481769;\n",
       "            color:  #f1f1f1;\n",
       "        }    #T_4e4986e2_ff3c_11e9_b47d_3c15c2c131bcrow2_col0 {\n",
       "            background-color:  #471365;\n",
       "            color:  #f1f1f1;\n",
       "        }    #T_4e4986e2_ff3c_11e9_b47d_3c15c2c131bcrow3_col0 {\n",
       "            background-color:  #471365;\n",
       "            color:  #f1f1f1;\n",
       "        }    #T_4e4986e2_ff3c_11e9_b47d_3c15c2c131bcrow4_col0 {\n",
       "            background-color:  #471164;\n",
       "            color:  #f1f1f1;\n",
       "        }    #T_4e4986e2_ff3c_11e9_b47d_3c15c2c131bcrow5_col0 {\n",
       "            background-color:  #471063;\n",
       "            color:  #f1f1f1;\n",
       "        }    #T_4e4986e2_ff3c_11e9_b47d_3c15c2c131bcrow6_col0 {\n",
       "            background-color:  #471063;\n",
       "            color:  #f1f1f1;\n",
       "        }    #T_4e4986e2_ff3c_11e9_b47d_3c15c2c131bcrow7_col0 {\n",
       "            background-color:  #470d60;\n",
       "            color:  #f1f1f1;\n",
       "        }    #T_4e4986e2_ff3c_11e9_b47d_3c15c2c131bcrow8_col0 {\n",
       "            background-color:  #460b5e;\n",
       "            color:  #f1f1f1;\n",
       "        }    #T_4e4986e2_ff3c_11e9_b47d_3c15c2c131bcrow9_col0 {\n",
       "            background-color:  #460b5e;\n",
       "            color:  #f1f1f1;\n",
       "        }    #T_4e4986e2_ff3c_11e9_b47d_3c15c2c131bcrow10_col0 {\n",
       "            background-color:  #460a5d;\n",
       "            color:  #f1f1f1;\n",
       "        }    #T_4e4986e2_ff3c_11e9_b47d_3c15c2c131bcrow11_col0 {\n",
       "            background-color:  #460a5d;\n",
       "            color:  #f1f1f1;\n",
       "        }    #T_4e4986e2_ff3c_11e9_b47d_3c15c2c131bcrow12_col0 {\n",
       "            background-color:  #460a5d;\n",
       "            color:  #f1f1f1;\n",
       "        }    #T_4e4986e2_ff3c_11e9_b47d_3c15c2c131bcrow13_col0 {\n",
       "            background-color:  #46085c;\n",
       "            color:  #f1f1f1;\n",
       "        }    #T_4e4986e2_ff3c_11e9_b47d_3c15c2c131bcrow14_col0 {\n",
       "            background-color:  #46085c;\n",
       "            color:  #f1f1f1;\n",
       "        }    #T_4e4986e2_ff3c_11e9_b47d_3c15c2c131bcrow15_col0 {\n",
       "            background-color:  #46075a;\n",
       "            color:  #f1f1f1;\n",
       "        }    #T_4e4986e2_ff3c_11e9_b47d_3c15c2c131bcrow16_col0 {\n",
       "            background-color:  #46075a;\n",
       "            color:  #f1f1f1;\n",
       "        }    #T_4e4986e2_ff3c_11e9_b47d_3c15c2c131bcrow17_col0 {\n",
       "            background-color:  #46075a;\n",
       "            color:  #f1f1f1;\n",
       "        }    #T_4e4986e2_ff3c_11e9_b47d_3c15c2c131bcrow18_col0 {\n",
       "            background-color:  #46075a;\n",
       "            color:  #f1f1f1;\n",
       "        }    #T_4e4986e2_ff3c_11e9_b47d_3c15c2c131bcrow19_col0 {\n",
       "            background-color:  #450559;\n",
       "            color:  #f1f1f1;\n",
       "        }    #T_4e4986e2_ff3c_11e9_b47d_3c15c2c131bcrow20_col0 {\n",
       "            background-color:  #450559;\n",
       "            color:  #f1f1f1;\n",
       "        }    #T_4e4986e2_ff3c_11e9_b47d_3c15c2c131bcrow21_col0 {\n",
       "            background-color:  #450559;\n",
       "            color:  #f1f1f1;\n",
       "        }    #T_4e4986e2_ff3c_11e9_b47d_3c15c2c131bcrow22_col0 {\n",
       "            background-color:  #450559;\n",
       "            color:  #f1f1f1;\n",
       "        }    #T_4e4986e2_ff3c_11e9_b47d_3c15c2c131bcrow23_col0 {\n",
       "            background-color:  #450559;\n",
       "            color:  #f1f1f1;\n",
       "        }    #T_4e4986e2_ff3c_11e9_b47d_3c15c2c131bcrow24_col0 {\n",
       "            background-color:  #450457;\n",
       "            color:  #f1f1f1;\n",
       "        }    #T_4e4986e2_ff3c_11e9_b47d_3c15c2c131bcrow25_col0 {\n",
       "            background-color:  #450457;\n",
       "            color:  #f1f1f1;\n",
       "        }    #T_4e4986e2_ff3c_11e9_b47d_3c15c2c131bcrow26_col0 {\n",
       "            background-color:  #450457;\n",
       "            color:  #f1f1f1;\n",
       "        }    #T_4e4986e2_ff3c_11e9_b47d_3c15c2c131bcrow27_col0 {\n",
       "            background-color:  #450457;\n",
       "            color:  #f1f1f1;\n",
       "        }    #T_4e4986e2_ff3c_11e9_b47d_3c15c2c131bcrow28_col0 {\n",
       "            background-color:  #450457;\n",
       "            color:  #f1f1f1;\n",
       "        }    #T_4e4986e2_ff3c_11e9_b47d_3c15c2c131bcrow29_col0 {\n",
       "            background-color:  #440256;\n",
       "            color:  #f1f1f1;\n",
       "        }    #T_4e4986e2_ff3c_11e9_b47d_3c15c2c131bcrow30_col0 {\n",
       "            background-color:  #440256;\n",
       "            color:  #f1f1f1;\n",
       "        }    #T_4e4986e2_ff3c_11e9_b47d_3c15c2c131bcrow31_col0 {\n",
       "            background-color:  #440256;\n",
       "            color:  #f1f1f1;\n",
       "        }    #T_4e4986e2_ff3c_11e9_b47d_3c15c2c131bcrow32_col0 {\n",
       "            background-color:  #440256;\n",
       "            color:  #f1f1f1;\n",
       "        }    #T_4e4986e2_ff3c_11e9_b47d_3c15c2c131bcrow33_col0 {\n",
       "            background-color:  #440256;\n",
       "            color:  #f1f1f1;\n",
       "        }    #T_4e4986e2_ff3c_11e9_b47d_3c15c2c131bcrow34_col0 {\n",
       "            background-color:  #440154;\n",
       "            color:  #f1f1f1;\n",
       "        }    #T_4e4986e2_ff3c_11e9_b47d_3c15c2c131bcrow35_col0 {\n",
       "            background-color:  #440154;\n",
       "            color:  #f1f1f1;\n",
       "        }    #T_4e4986e2_ff3c_11e9_b47d_3c15c2c131bcrow36_col0 {\n",
       "            background-color:  #440154;\n",
       "            color:  #f1f1f1;\n",
       "        }    #T_4e4986e2_ff3c_11e9_b47d_3c15c2c131bcrow37_col0 {\n",
       "            background-color:  #440154;\n",
       "            color:  #f1f1f1;\n",
       "        }</style><table id=\"T_4e4986e2_ff3c_11e9_b47d_3c15c2c131bc\" ><thead>    <tr>        <th class=\"blank level0\" ></th>        <th class=\"col_heading level0 col0\" >arstmade</th>    </tr></thead><tbody>\n",
       "                <tr>\n",
       "                        <th id=\"T_4e4986e2_ff3c_11e9_b47d_3c15c2c131bclevel0_row0\" class=\"row_heading level0 row0\" >arstmade</th>\n",
       "                        <td id=\"T_4e4986e2_ff3c_11e9_b47d_3c15c2c131bcrow0_col0\" class=\"data row0 col0\" >1</td>\n",
       "            </tr>\n",
       "            <tr>\n",
       "                        <th id=\"T_4e4986e2_ff3c_11e9_b47d_3c15c2c131bclevel0_row1\" class=\"row_heading level0 row1\" >age</th>\n",
       "                        <td id=\"T_4e4986e2_ff3c_11e9_b47d_3c15c2c131bcrow1_col0\" class=\"data row1 col0\" >0.0428783</td>\n",
       "            </tr>\n",
       "            <tr>\n",
       "                        <th id=\"T_4e4986e2_ff3c_11e9_b47d_3c15c2c131bclevel0_row2\" class=\"row_heading level0 row2\" >haircolr_BL</th>\n",
       "                        <td id=\"T_4e4986e2_ff3c_11e9_b47d_3c15c2c131bcrow2_col0\" class=\"data row2 col0\" >0.0334435</td>\n",
       "            </tr>\n",
       "            <tr>\n",
       "                        <th id=\"T_4e4986e2_ff3c_11e9_b47d_3c15c2c131bclevel0_row3\" class=\"row_heading level0 row3\" >eyecolor_GR</th>\n",
       "                        <td id=\"T_4e4986e2_ff3c_11e9_b47d_3c15c2c131bcrow3_col0\" class=\"data row3 col0\" >0.0334151</td>\n",
       "            </tr>\n",
       "            <tr>\n",
       "                        <th id=\"T_4e4986e2_ff3c_11e9_b47d_3c15c2c131bclevel0_row4\" class=\"row_heading level0 row4\" >haircolr_SP</th>\n",
       "                        <td id=\"T_4e4986e2_ff3c_11e9_b47d_3c15c2c131bcrow4_col0\" class=\"data row4 col0\" >0.0264671</td>\n",
       "            </tr>\n",
       "            <tr>\n",
       "                        <th id=\"T_4e4986e2_ff3c_11e9_b47d_3c15c2c131bclevel0_row5\" class=\"row_heading level0 row5\" >eyecolor_HA</th>\n",
       "                        <td id=\"T_4e4986e2_ff3c_11e9_b47d_3c15c2c131bcrow5_col0\" class=\"data row5 col0\" >0.0244154</td>\n",
       "            </tr>\n",
       "            <tr>\n",
       "                        <th id=\"T_4e4986e2_ff3c_11e9_b47d_3c15c2c131bclevel0_row6\" class=\"row_heading level0 row6\" >build_U</th>\n",
       "                        <td id=\"T_4e4986e2_ff3c_11e9_b47d_3c15c2c131bcrow6_col0\" class=\"data row6 col0\" >0.0235891</td>\n",
       "            </tr>\n",
       "            <tr>\n",
       "                        <th id=\"T_4e4986e2_ff3c_11e9_b47d_3c15c2c131bclevel0_row7\" class=\"row_heading level0 row7\" >eyecolor_DF</th>\n",
       "                        <td id=\"T_4e4986e2_ff3c_11e9_b47d_3c15c2c131bcrow7_col0\" class=\"data row7 col0\" >0.0172946</td>\n",
       "            </tr>\n",
       "            <tr>\n",
       "                        <th id=\"T_4e4986e2_ff3c_11e9_b47d_3c15c2c131bclevel0_row8\" class=\"row_heading level0 row8\" >haircolr_RA</th>\n",
       "                        <td id=\"T_4e4986e2_ff3c_11e9_b47d_3c15c2c131bcrow8_col0\" class=\"data row8 col0\" >0.0144297</td>\n",
       "            </tr>\n",
       "            <tr>\n",
       "                        <th id=\"T_4e4986e2_ff3c_11e9_b47d_3c15c2c131bclevel0_row9\" class=\"row_heading level0 row9\" >haircolr_GY</th>\n",
       "                        <td id=\"T_4e4986e2_ff3c_11e9_b47d_3c15c2c131bcrow9_col0\" class=\"data row9 col0\" >0.0144065</td>\n",
       "            </tr>\n",
       "            <tr>\n",
       "                        <th id=\"T_4e4986e2_ff3c_11e9_b47d_3c15c2c131bclevel0_row10\" class=\"row_heading level0 row10\" >weight</th>\n",
       "                        <td id=\"T_4e4986e2_ff3c_11e9_b47d_3c15c2c131bcrow10_col0\" class=\"data row10 col0\" >0.00858082</td>\n",
       "            </tr>\n",
       "            <tr>\n",
       "                        <th id=\"T_4e4986e2_ff3c_11e9_b47d_3c15c2c131bclevel0_row11\" class=\"row_heading level0 row11\" >race_W</th>\n",
       "                        <td id=\"T_4e4986e2_ff3c_11e9_b47d_3c15c2c131bcrow11_col0\" class=\"data row11 col0\" >0.00797348</td>\n",
       "            </tr>\n",
       "            <tr>\n",
       "                        <th id=\"T_4e4986e2_ff3c_11e9_b47d_3c15c2c131bclevel0_row12\" class=\"row_heading level0 row12\" >build_T</th>\n",
       "                        <td id=\"T_4e4986e2_ff3c_11e9_b47d_3c15c2c131bcrow12_col0\" class=\"data row12 col0\" >0.00664016</td>\n",
       "            </tr>\n",
       "            <tr>\n",
       "                        <th id=\"T_4e4986e2_ff3c_11e9_b47d_3c15c2c131bclevel0_row13\" class=\"row_heading level0 row13\" >haircolr_XX</th>\n",
       "                        <td id=\"T_4e4986e2_ff3c_11e9_b47d_3c15c2c131bcrow13_col0\" class=\"data row13 col0\" >0.00472949</td>\n",
       "            </tr>\n",
       "            <tr>\n",
       "                        <th id=\"T_4e4986e2_ff3c_11e9_b47d_3c15c2c131bclevel0_row14\" class=\"row_heading level0 row14\" >eyecolor_BL</th>\n",
       "                        <td id=\"T_4e4986e2_ff3c_11e9_b47d_3c15c2c131bcrow14_col0\" class=\"data row14 col0\" >0.00456219</td>\n",
       "            </tr>\n",
       "            <tr>\n",
       "                        <th id=\"T_4e4986e2_ff3c_11e9_b47d_3c15c2c131bclevel0_row15\" class=\"row_heading level0 row15\" >race_P</th>\n",
       "                        <td id=\"T_4e4986e2_ff3c_11e9_b47d_3c15c2c131bcrow15_col0\" class=\"data row15 col0\" >0.000623271</td>\n",
       "            </tr>\n",
       "            <tr>\n",
       "                        <th id=\"T_4e4986e2_ff3c_11e9_b47d_3c15c2c131bclevel0_row16\" class=\"row_heading level0 row16\" >race_B</th>\n",
       "                        <td id=\"T_4e4986e2_ff3c_11e9_b47d_3c15c2c131bcrow16_col0\" class=\"data row16 col0\" >0.000283252</td>\n",
       "            </tr>\n",
       "            <tr>\n",
       "                        <th id=\"T_4e4986e2_ff3c_11e9_b47d_3c15c2c131bclevel0_row17\" class=\"row_heading level0 row17\" >ht_feet</th>\n",
       "                        <td id=\"T_4e4986e2_ff3c_11e9_b47d_3c15c2c131bcrow17_col0\" class=\"data row17 col0\" >-0.000221455</td>\n",
       "            </tr>\n",
       "            <tr>\n",
       "                        <th id=\"T_4e4986e2_ff3c_11e9_b47d_3c15c2c131bclevel0_row18\" class=\"row_heading level0 row18\" >haircolr_BR</th>\n",
       "                        <td id=\"T_4e4986e2_ff3c_11e9_b47d_3c15c2c131bcrow18_col0\" class=\"data row18 col0\" >-0.00126925</td>\n",
       "            </tr>\n",
       "            <tr>\n",
       "                        <th id=\"T_4e4986e2_ff3c_11e9_b47d_3c15c2c131bclevel0_row19\" class=\"row_heading level0 row19\" >race_U</th>\n",
       "                        <td id=\"T_4e4986e2_ff3c_11e9_b47d_3c15c2c131bcrow19_col0\" class=\"data row19 col0\" >-0.00154132</td>\n",
       "            </tr>\n",
       "            <tr>\n",
       "                        <th id=\"T_4e4986e2_ff3c_11e9_b47d_3c15c2c131bclevel0_row20\" class=\"row_heading level0 row20\" >ht_inch</th>\n",
       "                        <td id=\"T_4e4986e2_ff3c_11e9_b47d_3c15c2c131bcrow20_col0\" class=\"data row20 col0\" >-0.00166059</td>\n",
       "            </tr>\n",
       "            <tr>\n",
       "                        <th id=\"T_4e4986e2_ff3c_11e9_b47d_3c15c2c131bclevel0_row21\" class=\"row_heading level0 row21\" >race_Q</th>\n",
       "                        <td id=\"T_4e4986e2_ff3c_11e9_b47d_3c15c2c131bcrow21_col0\" class=\"data row21 col0\" >-0.00224312</td>\n",
       "            </tr>\n",
       "            <tr>\n",
       "                        <th id=\"T_4e4986e2_ff3c_11e9_b47d_3c15c2c131bclevel0_row22\" class=\"row_heading level0 row22\" >eyecolor_MA</th>\n",
       "                        <td id=\"T_4e4986e2_ff3c_11e9_b47d_3c15c2c131bcrow22_col0\" class=\"data row22 col0\" >-0.00332834</td>\n",
       "            </tr>\n",
       "            <tr>\n",
       "                        <th id=\"T_4e4986e2_ff3c_11e9_b47d_3c15c2c131bclevel0_row23\" class=\"row_heading level0 row23\" >eyecolor_XX</th>\n",
       "                        <td id=\"T_4e4986e2_ff3c_11e9_b47d_3c15c2c131bcrow23_col0\" class=\"data row23 col0\" >-0.00382823</td>\n",
       "            </tr>\n",
       "            <tr>\n",
       "                        <th id=\"T_4e4986e2_ff3c_11e9_b47d_3c15c2c131bclevel0_row24\" class=\"row_heading level0 row24\" >haircolr_SN</th>\n",
       "                        <td id=\"T_4e4986e2_ff3c_11e9_b47d_3c15c2c131bcrow24_col0\" class=\"data row24 col0\" >-0.00576586</td>\n",
       "            </tr>\n",
       "            <tr>\n",
       "                        <th id=\"T_4e4986e2_ff3c_11e9_b47d_3c15c2c131bclevel0_row25\" class=\"row_heading level0 row25\" >haircolr_DY</th>\n",
       "                        <td id=\"T_4e4986e2_ff3c_11e9_b47d_3c15c2c131bcrow25_col0\" class=\"data row25 col0\" >-0.00576586</td>\n",
       "            </tr>\n",
       "            <tr>\n",
       "                        <th id=\"T_4e4986e2_ff3c_11e9_b47d_3c15c2c131bclevel0_row26\" class=\"row_heading level0 row26\" >race_Z</th>\n",
       "                        <td id=\"T_4e4986e2_ff3c_11e9_b47d_3c15c2c131bcrow26_col0\" class=\"data row26 col0\" >-0.0072661</td>\n",
       "            </tr>\n",
       "            <tr>\n",
       "                        <th id=\"T_4e4986e2_ff3c_11e9_b47d_3c15c2c131bclevel0_row27\" class=\"row_heading level0 row27\" >dob</th>\n",
       "                        <td id=\"T_4e4986e2_ff3c_11e9_b47d_3c15c2c131bcrow27_col0\" class=\"data row27 col0\" >-0.00809745</td>\n",
       "            </tr>\n",
       "            <tr>\n",
       "                        <th id=\"T_4e4986e2_ff3c_11e9_b47d_3c15c2c131bclevel0_row28\" class=\"row_heading level0 row28\" >eyecolor_BR</th>\n",
       "                        <td id=\"T_4e4986e2_ff3c_11e9_b47d_3c15c2c131bcrow28_col0\" class=\"data row28 col0\" >-0.00929326</td>\n",
       "            </tr>\n",
       "            <tr>\n",
       "                        <th id=\"T_4e4986e2_ff3c_11e9_b47d_3c15c2c131bclevel0_row29\" class=\"row_heading level0 row29\" >eyecolor_GY</th>\n",
       "                        <td id=\"T_4e4986e2_ff3c_11e9_b47d_3c15c2c131bcrow29_col0\" class=\"data row29 col0\" >-0.00999195</td>\n",
       "            </tr>\n",
       "            <tr>\n",
       "                        <th id=\"T_4e4986e2_ff3c_11e9_b47d_3c15c2c131bclevel0_row30\" class=\"row_heading level0 row30\" >build_M</th>\n",
       "                        <td id=\"T_4e4986e2_ff3c_11e9_b47d_3c15c2c131bcrow30_col0\" class=\"data row30 col0\" >-0.0103993</td>\n",
       "            </tr>\n",
       "            <tr>\n",
       "                        <th id=\"T_4e4986e2_ff3c_11e9_b47d_3c15c2c131bclevel0_row31\" class=\"row_heading level0 row31\" >build_Z</th>\n",
       "                        <td id=\"T_4e4986e2_ff3c_11e9_b47d_3c15c2c131bcrow31_col0\" class=\"data row31 col0\" >-0.0107861</td>\n",
       "            </tr>\n",
       "            <tr>\n",
       "                        <th id=\"T_4e4986e2_ff3c_11e9_b47d_3c15c2c131bclevel0_row32\" class=\"row_heading level0 row32\" >sex_Z</th>\n",
       "                        <td id=\"T_4e4986e2_ff3c_11e9_b47d_3c15c2c131bcrow32_col0\" class=\"data row32 col0\" >-0.0116022</td>\n",
       "            </tr>\n",
       "            <tr>\n",
       "                        <th id=\"T_4e4986e2_ff3c_11e9_b47d_3c15c2c131bclevel0_row33\" class=\"row_heading level0 row33\" >eyecolor_Z</th>\n",
       "                        <td id=\"T_4e4986e2_ff3c_11e9_b47d_3c15c2c131bcrow33_col0\" class=\"data row33 col0\" >-0.012013</td>\n",
       "            </tr>\n",
       "            <tr>\n",
       "                        <th id=\"T_4e4986e2_ff3c_11e9_b47d_3c15c2c131bclevel0_row34\" class=\"row_heading level0 row34\" >sex_M</th>\n",
       "                        <td id=\"T_4e4986e2_ff3c_11e9_b47d_3c15c2c131bcrow34_col0\" class=\"data row34 col0\" >-0.0151646</td>\n",
       "            </tr>\n",
       "            <tr>\n",
       "                        <th id=\"T_4e4986e2_ff3c_11e9_b47d_3c15c2c131bclevel0_row35\" class=\"row_heading level0 row35\" >haircolr_ZZ</th>\n",
       "                        <td id=\"T_4e4986e2_ff3c_11e9_b47d_3c15c2c131bcrow35_col0\" class=\"data row35 col0\" >-0.0152788</td>\n",
       "            </tr>\n",
       "            <tr>\n",
       "                        <th id=\"T_4e4986e2_ff3c_11e9_b47d_3c15c2c131bclevel0_row36\" class=\"row_heading level0 row36\" >race_I</th>\n",
       "                        <td id=\"T_4e4986e2_ff3c_11e9_b47d_3c15c2c131bcrow36_col0\" class=\"data row36 col0\" >-0.0152788</td>\n",
       "            </tr>\n",
       "            <tr>\n",
       "                        <th id=\"T_4e4986e2_ff3c_11e9_b47d_3c15c2c131bclevel0_row37\" class=\"row_heading level0 row37\" >haircolr_BK</th>\n",
       "                        <td id=\"T_4e4986e2_ff3c_11e9_b47d_3c15c2c131bcrow37_col0\" class=\"data row37 col0\" >-0.0172722</td>\n",
       "            </tr>\n",
       "    </tbody></table>"
      ],
      "text/plain": [
       "<pandas.io.formats.style.Styler at 0x1a22ac8c50>"
      ]
     },
     "execution_count": 27,
     "metadata": {},
     "output_type": "execute_result"
    }
   ],
   "source": [
    "df_train_2.corr()[['arstmade']].sort_values(by = 'arstmade', ascending = False).style.background_gradient(cmap='viridis')"
   ]
  },
  {
   "cell_type": "markdown",
   "metadata": {},
   "source": [
    "- En base a la correlación de los atributos del df asrtmade, se observa que la probabilidad de ser arrestado se influencia mayormente con variables como la edad,el color de pelo (blond) y ojos (green). "
   ]
  },
  {
   "cell_type": "markdown",
   "metadata": {},
   "source": [
    "#### Frecuencias de clases del vector objetivo arstmade"
   ]
  },
  {
   "cell_type": "code",
   "execution_count": 28,
   "metadata": {
    "scrolled": true
   },
   "outputs": [
    {
     "data": {
      "text/plain": [
       "0    0.939813\n",
       "1    0.060187\n",
       "Name: arstmade, dtype: float64"
      ]
     },
     "execution_count": 28,
     "metadata": {},
     "output_type": "execute_result"
    }
   ],
   "source": [
    "df_train_2['arstmade'].value_counts('%')"
   ]
  },
  {
   "cell_type": "markdown",
   "metadata": {},
   "source": [
    "#### SMOTE para balanceo de clases minoritarias"
   ]
  },
  {
   "cell_type": "code",
   "execution_count": 29,
   "metadata": {},
   "outputs": [],
   "source": [
    "smote = SMOTE(random_state=1, sampling_strategy = 'minority')\n",
    "x_train_oversampled, y_train_oversampled = smote.fit_resample(x_train,y_train)"
   ]
  },
  {
   "cell_type": "markdown",
   "metadata": {},
   "source": [
    "#### Probabilidad que un individuo sea arrestado en uno de los cinco barrios, condicional al género y condicional a la raza"
   ]
  },
  {
   "cell_type": "code",
   "execution_count": 30,
   "metadata": {},
   "outputs": [],
   "source": [
    "df_prob = df_train.groupby(['city','race','sex'])['arstmade'].value_counts('%')"
   ]
  },
  {
   "cell_type": "code",
   "execution_count": 31,
   "metadata": {},
   "outputs": [],
   "source": [
    "df_prob = df_prob.rename_axis(['Barrio','Raza','Genero','Arresto']).reset_index(name='Probabilidad')"
   ]
  },
  {
   "cell_type": "code",
   "execution_count": 32,
   "metadata": {
    "scrolled": true
   },
   "outputs": [
    {
     "data": {
      "text/html": [
       "<div>\n",
       "<style scoped>\n",
       "    .dataframe tbody tr th:only-of-type {\n",
       "        vertical-align: middle;\n",
       "    }\n",
       "\n",
       "    .dataframe tbody tr th {\n",
       "        vertical-align: top;\n",
       "    }\n",
       "\n",
       "    .dataframe thead th {\n",
       "        text-align: right;\n",
       "    }\n",
       "</style>\n",
       "<table border=\"1\" class=\"dataframe\">\n",
       "  <thead>\n",
       "    <tr style=\"text-align: right;\">\n",
       "      <th></th>\n",
       "      <th>Barrio</th>\n",
       "      <th>Raza</th>\n",
       "      <th>Genero</th>\n",
       "      <th>Arresto</th>\n",
       "      <th>Probabilidad</th>\n",
       "    </tr>\n",
       "  </thead>\n",
       "  <tbody>\n",
       "    <tr>\n",
       "      <td>3</td>\n",
       "      <td>BRONX</td>\n",
       "      <td>B</td>\n",
       "      <td>F</td>\n",
       "      <td>1</td>\n",
       "      <td>0.064516</td>\n",
       "    </tr>\n",
       "    <tr>\n",
       "      <td>5</td>\n",
       "      <td>BRONX</td>\n",
       "      <td>B</td>\n",
       "      <td>M</td>\n",
       "      <td>1</td>\n",
       "      <td>0.047146</td>\n",
       "    </tr>\n",
       "    <tr>\n",
       "      <td>10</td>\n",
       "      <td>BRONX</td>\n",
       "      <td>P</td>\n",
       "      <td>M</td>\n",
       "      <td>1</td>\n",
       "      <td>0.063830</td>\n",
       "    </tr>\n",
       "    <tr>\n",
       "      <td>14</td>\n",
       "      <td>BRONX</td>\n",
       "      <td>Q</td>\n",
       "      <td>M</td>\n",
       "      <td>1</td>\n",
       "      <td>0.062016</td>\n",
       "    </tr>\n",
       "    <tr>\n",
       "      <td>20</td>\n",
       "      <td>BRONX</td>\n",
       "      <td>W</td>\n",
       "      <td>M</td>\n",
       "      <td>1</td>\n",
       "      <td>0.029412</td>\n",
       "    </tr>\n",
       "    <tr>\n",
       "      <td>26</td>\n",
       "      <td>BROOKLYN</td>\n",
       "      <td>A</td>\n",
       "      <td>M</td>\n",
       "      <td>1</td>\n",
       "      <td>0.035714</td>\n",
       "    </tr>\n",
       "    <tr>\n",
       "      <td>28</td>\n",
       "      <td>BROOKLYN</td>\n",
       "      <td>B</td>\n",
       "      <td>F</td>\n",
       "      <td>1</td>\n",
       "      <td>0.130952</td>\n",
       "    </tr>\n",
       "    <tr>\n",
       "      <td>30</td>\n",
       "      <td>BROOKLYN</td>\n",
       "      <td>B</td>\n",
       "      <td>M</td>\n",
       "      <td>1</td>\n",
       "      <td>0.039305</td>\n",
       "    </tr>\n",
       "    <tr>\n",
       "      <td>37</td>\n",
       "      <td>BROOKLYN</td>\n",
       "      <td>Q</td>\n",
       "      <td>F</td>\n",
       "      <td>1</td>\n",
       "      <td>0.083333</td>\n",
       "    </tr>\n",
       "    <tr>\n",
       "      <td>39</td>\n",
       "      <td>BROOKLYN</td>\n",
       "      <td>Q</td>\n",
       "      <td>M</td>\n",
       "      <td>1</td>\n",
       "      <td>0.053512</td>\n",
       "    </tr>\n",
       "    <tr>\n",
       "      <td>44</td>\n",
       "      <td>BROOKLYN</td>\n",
       "      <td>W</td>\n",
       "      <td>M</td>\n",
       "      <td>1</td>\n",
       "      <td>0.043210</td>\n",
       "    </tr>\n",
       "    <tr>\n",
       "      <td>47</td>\n",
       "      <td>BROOKLYN</td>\n",
       "      <td>Z</td>\n",
       "      <td>M</td>\n",
       "      <td>1</td>\n",
       "      <td>0.058824</td>\n",
       "    </tr>\n",
       "    <tr>\n",
       "      <td>49</td>\n",
       "      <td>BROOKLYN</td>\n",
       "      <td>Z</td>\n",
       "      <td>Z</td>\n",
       "      <td>1</td>\n",
       "      <td>0.062500</td>\n",
       "    </tr>\n",
       "    <tr>\n",
       "      <td>51</td>\n",
       "      <td>MANHATTAN</td>\n",
       "      <td>A</td>\n",
       "      <td>F</td>\n",
       "      <td>1</td>\n",
       "      <td>0.250000</td>\n",
       "    </tr>\n",
       "    <tr>\n",
       "      <td>53</td>\n",
       "      <td>MANHATTAN</td>\n",
       "      <td>A</td>\n",
       "      <td>M</td>\n",
       "      <td>1</td>\n",
       "      <td>0.045455</td>\n",
       "    </tr>\n",
       "    <tr>\n",
       "      <td>55</td>\n",
       "      <td>MANHATTAN</td>\n",
       "      <td>B</td>\n",
       "      <td>F</td>\n",
       "      <td>1</td>\n",
       "      <td>0.153846</td>\n",
       "    </tr>\n",
       "    <tr>\n",
       "      <td>57</td>\n",
       "      <td>MANHATTAN</td>\n",
       "      <td>B</td>\n",
       "      <td>M</td>\n",
       "      <td>1</td>\n",
       "      <td>0.095159</td>\n",
       "    </tr>\n",
       "    <tr>\n",
       "      <td>61</td>\n",
       "      <td>MANHATTAN</td>\n",
       "      <td>P</td>\n",
       "      <td>F</td>\n",
       "      <td>1</td>\n",
       "      <td>0.166667</td>\n",
       "    </tr>\n",
       "    <tr>\n",
       "      <td>63</td>\n",
       "      <td>MANHATTAN</td>\n",
       "      <td>P</td>\n",
       "      <td>M</td>\n",
       "      <td>1</td>\n",
       "      <td>0.080808</td>\n",
       "    </tr>\n",
       "    <tr>\n",
       "      <td>66</td>\n",
       "      <td>MANHATTAN</td>\n",
       "      <td>Q</td>\n",
       "      <td>F</td>\n",
       "      <td>1</td>\n",
       "      <td>0.117647</td>\n",
       "    </tr>\n",
       "    <tr>\n",
       "      <td>68</td>\n",
       "      <td>MANHATTAN</td>\n",
       "      <td>Q</td>\n",
       "      <td>M</td>\n",
       "      <td>1</td>\n",
       "      <td>0.076125</td>\n",
       "    </tr>\n",
       "    <tr>\n",
       "      <td>71</td>\n",
       "      <td>MANHATTAN</td>\n",
       "      <td>U</td>\n",
       "      <td>M</td>\n",
       "      <td>1</td>\n",
       "      <td>0.100000</td>\n",
       "    </tr>\n",
       "    <tr>\n",
       "      <td>72</td>\n",
       "      <td>MANHATTAN</td>\n",
       "      <td>U</td>\n",
       "      <td>Z</td>\n",
       "      <td>1</td>\n",
       "      <td>1.000000</td>\n",
       "    </tr>\n",
       "    <tr>\n",
       "      <td>74</td>\n",
       "      <td>MANHATTAN</td>\n",
       "      <td>W</td>\n",
       "      <td>F</td>\n",
       "      <td>1</td>\n",
       "      <td>0.076923</td>\n",
       "    </tr>\n",
       "    <tr>\n",
       "      <td>76</td>\n",
       "      <td>MANHATTAN</td>\n",
       "      <td>W</td>\n",
       "      <td>M</td>\n",
       "      <td>1</td>\n",
       "      <td>0.113208</td>\n",
       "    </tr>\n",
       "    <tr>\n",
       "      <td>79</td>\n",
       "      <td>MANHATTAN</td>\n",
       "      <td>Z</td>\n",
       "      <td>M</td>\n",
       "      <td>1</td>\n",
       "      <td>0.111111</td>\n",
       "    </tr>\n",
       "    <tr>\n",
       "      <td>81</td>\n",
       "      <td>MANHATTAN</td>\n",
       "      <td>Z</td>\n",
       "      <td>Z</td>\n",
       "      <td>1</td>\n",
       "      <td>0.125000</td>\n",
       "    </tr>\n",
       "    <tr>\n",
       "      <td>84</td>\n",
       "      <td>QUEENS</td>\n",
       "      <td>A</td>\n",
       "      <td>M</td>\n",
       "      <td>1</td>\n",
       "      <td>0.087379</td>\n",
       "    </tr>\n",
       "    <tr>\n",
       "      <td>87</td>\n",
       "      <td>QUEENS</td>\n",
       "      <td>B</td>\n",
       "      <td>F</td>\n",
       "      <td>1</td>\n",
       "      <td>0.080000</td>\n",
       "    </tr>\n",
       "    <tr>\n",
       "      <td>89</td>\n",
       "      <td>QUEENS</td>\n",
       "      <td>B</td>\n",
       "      <td>M</td>\n",
       "      <td>1</td>\n",
       "      <td>0.072917</td>\n",
       "    </tr>\n",
       "    <tr>\n",
       "      <td>95</td>\n",
       "      <td>QUEENS</td>\n",
       "      <td>P</td>\n",
       "      <td>M</td>\n",
       "      <td>1</td>\n",
       "      <td>0.084746</td>\n",
       "    </tr>\n",
       "    <tr>\n",
       "      <td>97</td>\n",
       "      <td>QUEENS</td>\n",
       "      <td>Q</td>\n",
       "      <td>F</td>\n",
       "      <td>1</td>\n",
       "      <td>0.095238</td>\n",
       "    </tr>\n",
       "    <tr>\n",
       "      <td>99</td>\n",
       "      <td>QUEENS</td>\n",
       "      <td>Q</td>\n",
       "      <td>M</td>\n",
       "      <td>1</td>\n",
       "      <td>0.052506</td>\n",
       "    </tr>\n",
       "    <tr>\n",
       "      <td>106</td>\n",
       "      <td>QUEENS</td>\n",
       "      <td>W</td>\n",
       "      <td>M</td>\n",
       "      <td>1</td>\n",
       "      <td>0.101351</td>\n",
       "    </tr>\n",
       "    <tr>\n",
       "      <td>109</td>\n",
       "      <td>QUEENS</td>\n",
       "      <td>Z</td>\n",
       "      <td>M</td>\n",
       "      <td>1</td>\n",
       "      <td>0.090909</td>\n",
       "    </tr>\n",
       "    <tr>\n",
       "      <td>115</td>\n",
       "      <td>STATEN ISLAND</td>\n",
       "      <td>B</td>\n",
       "      <td>M</td>\n",
       "      <td>1</td>\n",
       "      <td>0.038462</td>\n",
       "    </tr>\n",
       "    <tr>\n",
       "      <td>119</td>\n",
       "      <td>STATEN ISLAND</td>\n",
       "      <td>Q</td>\n",
       "      <td>M</td>\n",
       "      <td>1</td>\n",
       "      <td>0.027778</td>\n",
       "    </tr>\n",
       "    <tr>\n",
       "      <td>123</td>\n",
       "      <td>STATEN ISLAND</td>\n",
       "      <td>W</td>\n",
       "      <td>M</td>\n",
       "      <td>1</td>\n",
       "      <td>0.063291</td>\n",
       "    </tr>\n",
       "  </tbody>\n",
       "</table>\n",
       "</div>"
      ],
      "text/plain": [
       "            Barrio Raza Genero  Arresto  Probabilidad\n",
       "3            BRONX    B      F        1      0.064516\n",
       "5            BRONX    B      M        1      0.047146\n",
       "10           BRONX    P      M        1      0.063830\n",
       "14           BRONX    Q      M        1      0.062016\n",
       "20           BRONX    W      M        1      0.029412\n",
       "26        BROOKLYN    A      M        1      0.035714\n",
       "28        BROOKLYN    B      F        1      0.130952\n",
       "30        BROOKLYN    B      M        1      0.039305\n",
       "37        BROOKLYN    Q      F        1      0.083333\n",
       "39        BROOKLYN    Q      M        1      0.053512\n",
       "44        BROOKLYN    W      M        1      0.043210\n",
       "47        BROOKLYN    Z      M        1      0.058824\n",
       "49        BROOKLYN    Z      Z        1      0.062500\n",
       "51       MANHATTAN    A      F        1      0.250000\n",
       "53       MANHATTAN    A      M        1      0.045455\n",
       "55       MANHATTAN    B      F        1      0.153846\n",
       "57       MANHATTAN    B      M        1      0.095159\n",
       "61       MANHATTAN    P      F        1      0.166667\n",
       "63       MANHATTAN    P      M        1      0.080808\n",
       "66       MANHATTAN    Q      F        1      0.117647\n",
       "68       MANHATTAN    Q      M        1      0.076125\n",
       "71       MANHATTAN    U      M        1      0.100000\n",
       "72       MANHATTAN    U      Z        1      1.000000\n",
       "74       MANHATTAN    W      F        1      0.076923\n",
       "76       MANHATTAN    W      M        1      0.113208\n",
       "79       MANHATTAN    Z      M        1      0.111111\n",
       "81       MANHATTAN    Z      Z        1      0.125000\n",
       "84          QUEENS    A      M        1      0.087379\n",
       "87          QUEENS    B      F        1      0.080000\n",
       "89          QUEENS    B      M        1      0.072917\n",
       "95          QUEENS    P      M        1      0.084746\n",
       "97          QUEENS    Q      F        1      0.095238\n",
       "99          QUEENS    Q      M        1      0.052506\n",
       "106         QUEENS    W      M        1      0.101351\n",
       "109         QUEENS    Z      M        1      0.090909\n",
       "115  STATEN ISLAND    B      M        1      0.038462\n",
       "119  STATEN ISLAND    Q      M        1      0.027778\n",
       "123  STATEN ISLAND    W      M        1      0.063291"
      ]
     },
     "execution_count": 32,
     "metadata": {},
     "output_type": "execute_result"
    }
   ],
   "source": [
    "pd.set_option('display.max_rows',100)\n",
    "df_prob[df_prob['Arresto']==1]"
   ]
  },
  {
   "cell_type": "markdown",
   "metadata": {},
   "source": [
    "### 2. DF modelo  __'force_process'__"
   ]
  },
  {
   "cell_type": "markdown",
   "metadata": {},
   "source": [
    "### Generacion varibale objetivo: 'force_process'\n",
    "Para la generación de esta variable objetivo se incluyeron las observaciones que presentaron uso de fuerza física por parte del policía.\n",
    "#### **_pf_xx_** (PHYSICAL FORCE USED BY OFFICER)\n",
    "Corresponde a una serie de variables (9) que permiten determinar si el procedimiento policial concluirá en alguna acción violenta, basado en el uso de fuerza física usado por el oficial de policía. Las variables a recodificar son:\n",
    "\n",
    "- pf_hands\n",
    "- pf_wall\n",
    "- pf_grnd\n",
    "- pf_drwep\n",
    "- pf_ptwep\n",
    "- pf_baton\n",
    "- pf_hcuff\n",
    "- pf_pepsp\n",
    "- pf_other\n"
   ]
  },
  {
   "cell_type": "code",
   "execution_count": 33,
   "metadata": {},
   "outputs": [],
   "source": [
    "#filtro de variables pf_xxx\n",
    "force_process = df_train.filter(regex='^pf_',axis = 1)"
   ]
  },
  {
   "cell_type": "code",
   "execution_count": 34,
   "metadata": {
    "scrolled": true
   },
   "outputs": [
    {
     "data": {
      "text/plain": [
       "Index(['pf_hands', 'pf_wall', 'pf_grnd', 'pf_drwep', 'pf_ptwep', 'pf_baton',\n",
       "       'pf_hcuff', 'pf_pepsp', 'pf_other'],\n",
       "      dtype='object')"
      ]
     },
     "execution_count": 34,
     "metadata": {},
     "output_type": "execute_result"
    }
   ],
   "source": [
    "force_process.columns"
   ]
  },
  {
   "cell_type": "code",
   "execution_count": 35,
   "metadata": {},
   "outputs": [],
   "source": [
    "df_train_3 = df_train.copy()\n",
    "df_test_3 = df_test.copy()"
   ]
  },
  {
   "cell_type": "markdown",
   "metadata": {},
   "source": [
    "Uso de sentencias lógicas para binarizar variables atribuidas a uso de violencia"
   ]
  },
  {
   "cell_type": "code",
   "execution_count": 36,
   "metadata": {},
   "outputs": [],
   "source": [
    "logical_sentence_train = (df_train_3['pf_wall'] == 'Y') | (df_train_3['pf_drwep'] == 'Y') |\\\n",
    "                (df_train_3['pf_hands'] == 'Y') | (df_train_3['pf_grnd'] == 'Y') |\\\n",
    "                (df_train_3['pf_ptwep'] == 'Y') | (df_train_3['pf_baton'] == 'Y')|\\\n",
    "                (df_train_3['pf_hcuff'] == 'Y') | (df_train_3['pf_pepsp'] == 'Y')|\\\n",
    "                (df_train_3['pf_other'] == 'Y')"
   ]
  },
  {
   "cell_type": "code",
   "execution_count": 37,
   "metadata": {},
   "outputs": [],
   "source": [
    "logical_sentence_test = (df_test_3['pf_wall'] == 'Y') | (df_test_3['pf_drwep'] == 'Y') |\\\n",
    "                (df_test_3['pf_hands'] == 'Y') | (df_test_3['pf_grnd'] == 'Y') |\\\n",
    "                (df_test_3['pf_ptwep'] == 'Y') | (df_test_3['pf_baton'] == 'Y') |\\\n",
    "                (df_test_3['pf_hcuff'] == 'Y') | (df_test_3['pf_pepsp'] == 'Y') |\\\n",
    "                (df_test_3['pf_other'] == 'Y')"
   ]
  },
  {
   "cell_type": "code",
   "execution_count": 38,
   "metadata": {},
   "outputs": [],
   "source": [
    "df_train_3['force_process'] = np.where(logical_sentence_train,1,0)\n",
    "df_test_3['force_process'] = np.where(logical_sentence_test,1,0)\n",
    "\n",
    "df_train_3.drop(force_process.columns, axis = 1, inplace=True)\n",
    "df_test_3.drop(force_process.columns, axis = 1, inplace=True)"
   ]
  },
  {
   "cell_type": "code",
   "execution_count": 39,
   "metadata": {},
   "outputs": [],
   "source": [
    "atributos_modelo_2 =['timestop','inout','othpers','arstmade','frisked','searched','contrabn','adtlrept','pistol',\n",
    "                     'riflshot','knifcuti','machgun','othrweap','rf_vcrim','rf_othsw','rf_attir','rf_vcact',\n",
    "                     'rf_rfcmp','rf_verbl','rf_knowl','rf_furt','rf_bulg','cs_objcs','cs_descr','cs_casng','cs_lkout',\n",
    "                     'cs_cloth','cs_drgtr','cs_furtv','cs_vcrim','cs_bulge','cs_other','sex','race','age','ht_feet',\n",
    "                     'ht_inch','weight','haircolr','eyecolor','build','city','sector','force_process']"
   ]
  },
  {
   "cell_type": "code",
   "execution_count": 40,
   "metadata": {},
   "outputs": [],
   "source": [
    "df_train_3 = df_train_3.loc[:,atributos_modelo_2]\n",
    "df_test_3 = df_test_3.loc[:,atributos_modelo_2]"
   ]
  },
  {
   "cell_type": "markdown",
   "metadata": {},
   "source": [
    "Función para parcializar en rangos de: **mañana, dia, tarde y noche**, las horas en que se realizaron las detenciones"
   ]
  },
  {
   "cell_type": "code",
   "execution_count": 41,
   "metadata": {},
   "outputs": [],
   "source": [
    "def func_momento(hour):\n",
    "    if hour <=700:\n",
    "        momento = \"noche\"\n",
    "    elif hour >700 and hour <=1200:\n",
    "        momento = \"mañana\"\n",
    "    elif hour >1200 and hour <=1900:\n",
    "        momento = \"dia\"\n",
    "    elif hour >1900:\n",
    "        momento = \"tarde\"\n",
    "    return momento"
   ]
  },
  {
   "cell_type": "code",
   "execution_count": 42,
   "metadata": {},
   "outputs": [
    {
     "data": {
      "image/png": "[encoded data removed]",
      "text/plain": [
       "<Figure size 3600x3600 with 45 Axes>"
      ]
     },
     "metadata": {},
     "output_type": "display_data"
    }
   ],
   "source": [
    "atributos_modelo_2 =['timestop','inout','othpers','arstmade','frisked','searched','contrabn','adtlrept','pistol',\n",
    "                     'riflshot','knifcuti','machgun','othrweap','rf_vcrim','rf_othsw','rf_attir','rf_vcact',\n",
    "                     'rf_rfcmp','rf_verbl','rf_knowl','rf_furt','rf_bulg','cs_objcs','cs_descr','cs_casng','cs_lkout',\n",
    "                     'cs_cloth','cs_drgtr','cs_furtv','cs_vcrim','cs_bulge','cs_other','sex','race','age','ht_feet',\n",
    "                     'ht_inch','weight','haircolr','eyecolor','build','city','sector','force_process']\n",
    "\n",
    "plt.subplots(15,3, figsize=(50,50))\n",
    "plt.subplots_adjust(hspace=0.2)\n",
    "for index, (colnames, serie) in enumerate(df_train_3.iteritems()):\n",
    "    plt.subplot(15,3,index+1)\n",
    "    if serie.dtype == 'object':\n",
    "        sns.countplot(df_train_3[colnames])\n",
    "    else:\n",
    "        sns.distplot(df_train_3[colnames])"
   ]
  },
  {
   "cell_type": "markdown",
   "metadata": {},
   "source": [
    "Aplicar la función momento a los conjuntos de train y test"
   ]
  },
  {
   "cell_type": "code",
   "execution_count": 43,
   "metadata": {},
   "outputs": [],
   "source": [
    "df_train_3['timestop'] = df_train_3['timestop'].apply(func_momento)\n",
    "df_test_3['timestop'] = df_test_3['timestop'].apply(func_momento)"
   ]
  },
  {
   "cell_type": "code",
   "execution_count": 44,
   "metadata": {},
   "outputs": [],
   "source": [
    "df_train_3['sector'] = np.where(df_train_3['sector'] == ' ', np.nan, df_train_3['sector'])\n",
    "df_test_3['sector'] = np.where(df_test_3['sector'] == ' ', np.nan, df_test_3['sector'])"
   ]
  },
  {
   "cell_type": "code",
   "execution_count": 45,
   "metadata": {},
   "outputs": [
    {
     "name": "stdout",
     "output_type": "stream",
     "text": [
      "0\n",
      "173\n"
     ]
    }
   ],
   "source": [
    "print(df_train_3['sector'].isnull().sum())\n",
    "print(df_test_3['sector'].isnull().sum())"
   ]
  },
  {
   "cell_type": "code",
   "execution_count": 46,
   "metadata": {},
   "outputs": [],
   "source": [
    "df_train_3.dropna(inplace=True)\n",
    "df_test_3.dropna(inplace=True)"
   ]
  },
  {
   "cell_type": "markdown",
   "metadata": {},
   "source": [
    "Eliminación del vector objetivo de los conjuntos de train y test"
   ]
  },
  {
   "cell_type": "code",
   "execution_count": 47,
   "metadata": {},
   "outputs": [],
   "source": [
    "x_train_2 = df_train_3.drop('force_process',axis=1)\n",
    "y_train_2 = df_train_3['force_process']\n",
    "x_test_2 = df_test_3.drop('force_process',axis=1)\n",
    "y_test_2 = df_test_3['force_process']"
   ]
  },
  {
   "cell_type": "code",
   "execution_count": 48,
   "metadata": {
    "scrolled": true
   },
   "outputs": [
    {
     "name": "stdout",
     "output_type": "stream",
     "text": [
      "(5782, 43)\n",
      "(5782,)\n",
      "(5840, 43)\n",
      "(5840,)\n"
     ]
    }
   ],
   "source": [
    "print(x_train_2.shape)\n",
    "print(y_train_2.shape)\n",
    "print(x_test_2.shape)\n",
    "print(y_test_2.shape)"
   ]
  },
  {
   "cell_type": "code",
   "execution_count": 49,
   "metadata": {},
   "outputs": [],
   "source": [
    "x_train_2 = pd.get_dummies(x_train_2, drop_first=True)\n",
    "x_test_2 = pd.get_dummies(x_test_2, drop_first=True)"
   ]
  },
  {
   "cell_type": "code",
   "execution_count": 50,
   "metadata": {
    "scrolled": true
   },
   "outputs": [
    {
     "name": "stdout",
     "output_type": "stream",
     "text": [
      "(5782, 89)\n",
      "(5840, 89)\n"
     ]
    }
   ],
   "source": [
    "print(x_train_2.shape)\n",
    "print(x_test_2.shape)"
   ]
  },
  {
   "cell_type": "markdown",
   "metadata": {},
   "source": [
    "Identificación de columnas que no están en ambos conjuntos de train y test, para que sean eliminadas."
   ]
  },
  {
   "cell_type": "code",
   "execution_count": 51,
   "metadata": {},
   "outputs": [
    {
     "name": "stdout",
     "output_type": "stream",
     "text": [
      "Columnas de x_train y no esta en x_test:\n",
      "haircolr_SN\n"
     ]
    }
   ],
   "source": [
    "print('Columnas de x_train y no esta en x_test:')\n",
    "for col in x_train_2.columns:\n",
    "    if col not in list(x_test_2.columns):\n",
    "         print(col)"
   ]
  },
  {
   "cell_type": "code",
   "execution_count": 52,
   "metadata": {},
   "outputs": [
    {
     "name": "stdout",
     "output_type": "stream",
     "text": [
      "Columnas de x_test y no esta en x_train:\n",
      "eyecolor_VI\n"
     ]
    }
   ],
   "source": [
    "print('Columnas de x_test y no esta en x_train:')\n",
    "for col in x_test_2.columns:\n",
    "    if col not in list(x_train_2.columns):\n",
    "         print(col)"
   ]
  },
  {
   "cell_type": "code",
   "execution_count": 53,
   "metadata": {},
   "outputs": [],
   "source": [
    "x_train_2.drop('haircolr_SN',axis=1, inplace=True)\n",
    "x_test_2.drop('eyecolor_VI',axis=1, inplace=True)"
   ]
  },
  {
   "cell_type": "markdown",
   "metadata": {},
   "source": [
    "#### Correlaciones de variable force_process con df_train_3 sin aplicar función de normalización  de atributos ( _create_suitable_dataframe_)\n"
   ]
  },
  {
   "cell_type": "code",
   "execution_count": 54,
   "metadata": {
    "scrolled": true
   },
   "outputs": [
    {
     "data": {
      "text/html": [
       "<style  type=\"text/css\" >\n",
       "    #T_5b2bd45a_ff3c_11e9_b47d_3c15c2c131bcrow0_col0 {\n",
       "            background-color:  #023858;\n",
       "            color:  #f1f1f1;\n",
       "        }    #T_5b2bd45a_ff3c_11e9_b47d_3c15c2c131bcrow1_col0 {\n",
       "            background-color:  #e0dded;\n",
       "            color:  #000000;\n",
       "        }    #T_5b2bd45a_ff3c_11e9_b47d_3c15c2c131bcrow2_col0 {\n",
       "            background-color:  #f5eef6;\n",
       "            color:  #000000;\n",
       "        }    #T_5b2bd45a_ff3c_11e9_b47d_3c15c2c131bcrow3_col0 {\n",
       "            background-color:  #f6eff7;\n",
       "            color:  #000000;\n",
       "        }    #T_5b2bd45a_ff3c_11e9_b47d_3c15c2c131bcrow4_col0 {\n",
       "            background-color:  #f7f0f7;\n",
       "            color:  #000000;\n",
       "        }    #T_5b2bd45a_ff3c_11e9_b47d_3c15c2c131bcrow5_col0 {\n",
       "            background-color:  #fff7fb;\n",
       "            color:  #000000;\n",
       "        }</style><table id=\"T_5b2bd45a_ff3c_11e9_b47d_3c15c2c131bc\" ><thead>    <tr>        <th class=\"blank level0\" ></th>        <th class=\"col_heading level0 col0\" >force_process</th>    </tr></thead><tbody>\n",
       "                <tr>\n",
       "                        <th id=\"T_5b2bd45a_ff3c_11e9_b47d_3c15c2c131bclevel0_row0\" class=\"row_heading level0 row0\" >force_process</th>\n",
       "                        <td id=\"T_5b2bd45a_ff3c_11e9_b47d_3c15c2c131bcrow0_col0\" class=\"data row0 col0\" >1</td>\n",
       "            </tr>\n",
       "            <tr>\n",
       "                        <th id=\"T_5b2bd45a_ff3c_11e9_b47d_3c15c2c131bclevel0_row1\" class=\"row_heading level0 row1\" >arstmade</th>\n",
       "                        <td id=\"T_5b2bd45a_ff3c_11e9_b47d_3c15c2c131bcrow1_col0\" class=\"data row1 col0\" >0.135699</td>\n",
       "            </tr>\n",
       "            <tr>\n",
       "                        <th id=\"T_5b2bd45a_ff3c_11e9_b47d_3c15c2c131bclevel0_row2\" class=\"row_heading level0 row2\" >weight</th>\n",
       "                        <td id=\"T_5b2bd45a_ff3c_11e9_b47d_3c15c2c131bcrow2_col0\" class=\"data row2 col0\" >0.0193137</td>\n",
       "            </tr>\n",
       "            <tr>\n",
       "                        <th id=\"T_5b2bd45a_ff3c_11e9_b47d_3c15c2c131bclevel0_row3\" class=\"row_heading level0 row3\" >ht_inch</th>\n",
       "                        <td id=\"T_5b2bd45a_ff3c_11e9_b47d_3c15c2c131bcrow3_col0\" class=\"data row3 col0\" >0.0095225</td>\n",
       "            </tr>\n",
       "            <tr>\n",
       "                        <th id=\"T_5b2bd45a_ff3c_11e9_b47d_3c15c2c131bclevel0_row4\" class=\"row_heading level0 row4\" >ht_feet</th>\n",
       "                        <td id=\"T_5b2bd45a_ff3c_11e9_b47d_3c15c2c131bcrow4_col0\" class=\"data row4 col0\" >0.00202321</td>\n",
       "            </tr>\n",
       "            <tr>\n",
       "                        <th id=\"T_5b2bd45a_ff3c_11e9_b47d_3c15c2c131bclevel0_row5\" class=\"row_heading level0 row5\" >age</th>\n",
       "                        <td id=\"T_5b2bd45a_ff3c_11e9_b47d_3c15c2c131bcrow5_col0\" class=\"data row5 col0\" >-0.0537892</td>\n",
       "            </tr>\n",
       "    </tbody></table>"
      ],
      "text/plain": [
       "<pandas.io.formats.style.Styler at 0x1071f8650>"
      ]
     },
     "execution_count": 54,
     "metadata": {},
     "output_type": "execute_result"
    }
   ],
   "source": [
    "df_train_3.corr()[['force_process']].sort_values(by = 'force_process', ascending = False).style.background_gradient()"
   ]
  },
  {
   "cell_type": "markdown",
   "metadata": {},
   "source": [
    "- En base a la correlación de los atributos del df force_process, se observa que las variables que influencian mayormente un arresto con uso de violencia son un arresto propiamente tal, el peso, altura y edad del sospechoso."
   ]
  },
  {
   "cell_type": "markdown",
   "metadata": {},
   "source": [
    "#### Frecuencias de clases del vector objetivo force_process"
   ]
  },
  {
   "cell_type": "code",
   "execution_count": 55,
   "metadata": {},
   "outputs": [
    {
     "data": {
      "text/plain": [
       "0    0.749568\n",
       "1    0.250432\n",
       "Name: force_process, dtype: float64"
      ]
     },
     "execution_count": 55,
     "metadata": {},
     "output_type": "execute_result"
    }
   ],
   "source": [
    "df_train_3['force_process'].value_counts('%')"
   ]
  },
  {
   "cell_type": "markdown",
   "metadata": {},
   "source": [
    "----------------------------------------------"
   ]
  },
  {
   "cell_type": "markdown",
   "metadata": {},
   "source": [
    "## V. MODELACION\n"
   ]
  },
  {
   "cell_type": "markdown",
   "metadata": {},
   "source": [
    "### 1. MODELOS ARSTMADE"
   ]
  },
  {
   "cell_type": "markdown",
   "metadata": {},
   "source": [
    "El modelo propuesto será RandomForest el cual será depurado posteriormente para analizar cuál modelo funciona mejor para este conjunto de datos."
   ]
  },
  {
   "cell_type": "markdown",
   "metadata": {},
   "source": [
    "#### 1.1 Random Forest arstmade"
   ]
  },
  {
   "cell_type": "markdown",
   "metadata": {},
   "source": [
    "Para Random Forest, se realizó una busqueda por grilla para encontrar los mejores hiperparamétros, los cuales fueron 'max_depth': None, 'max_features': 'sqrt', 'n_estimators': 150. Se probaron 50,100,150,200,250,500 estimadores, los cuales corresponden al numero de arboles que componen el bosque, sin embargo se optó por 150, ya que fue el mejor numero de estimadores encontrado por la búsqueda de grilla."
   ]
  },
  {
   "cell_type": "code",
   "execution_count": 59,
   "metadata": {},
   "outputs": [],
   "source": [
    "params = {'max_features': [None , 'log2' , 'sqrt'],'n_estimators': [10,50,100,150,200,250], 'max_depth':[None, 2,5,7,10]}\n",
    "\n",
    "rf_model_gridcv = GridSearchCV(RandomForestClassifier(random_state = 1), params, cv=5, n_jobs=-1).fit(x_train_oversampled,y_train_oversampled)\n"
   ]
  },
  {
   "cell_type": "code",
   "execution_count": 60,
   "metadata": {},
   "outputs": [
    {
     "data": {
      "text/plain": [
       "{'max_depth': None, 'max_features': 'sqrt', 'n_estimators': 150}"
      ]
     },
     "execution_count": 60,
     "metadata": {},
     "output_type": "execute_result"
    }
   ],
   "source": [
    "rf_model_gridcv.best_params_"
   ]
  },
  {
   "cell_type": "code",
   "execution_count": 61,
   "metadata": {},
   "outputs": [
    {
     "name": "stdout",
     "output_type": "stream",
     "text": [
      "              precision    recall  f1-score   support\n",
      "\n",
      "           0       0.93      0.98      0.95      5613\n",
      "           1       0.10      0.04      0.05       400\n",
      "\n",
      "   micro avg       0.91      0.91      0.91      6013\n",
      "   macro avg       0.52      0.51      0.50      6013\n",
      "weighted avg       0.88      0.91      0.89      6013\n",
      "\n",
      "accuracy:  0.914\n"
     ]
    }
   ],
   "source": [
    "predictions = rf_model_gridcv.predict(x_test)\n",
    "print(classification_report(y_test,predictions))\n",
    "print('accuracy: ', round(accuracy_score(y_test,predictions),3))"
   ]
  },
  {
   "cell_type": "code",
   "execution_count": 65,
   "metadata": {},
   "outputs": [
    {
     "data": {
      "image/png": "[encoded data removed]",
      "text/plain": [
       "<Figure size 720x720 with 1 Axes>"
      ]
     },
     "metadata": {
      "needs_background": "light"
     },
     "output_type": "display_data"
    }
   ],
   "source": [
    "\n",
    "leyenda=['no_arrestado','arrestado']\n",
    "mat = confusion_matrix(y_test, predictions)\n",
    "sns.heatmap(\n",
    "    mat.T, square=True, annot=True, fmt='d', cbar=False,\n",
    "    xticklabels=leyenda, \n",
    "    yticklabels=leyenda\n",
    ")\n",
    "plt.xlabel('true label')\n",
    "plt.ylabel('predicted label')\n",
    "plt.show()"
   ]
  },
  {
   "cell_type": "code",
   "execution_count": 69,
   "metadata": {},
   "outputs": [
    {
     "data": {
      "text/html": [
       "<div>\n",
       "<style scoped>\n",
       "    .dataframe tbody tr th:only-of-type {\n",
       "        vertical-align: middle;\n",
       "    }\n",
       "\n",
       "    .dataframe tbody tr th {\n",
       "        vertical-align: top;\n",
       "    }\n",
       "\n",
       "    .dataframe thead th {\n",
       "        text-align: right;\n",
       "    }\n",
       "</style>\n",
       "<table border=\"1\" class=\"dataframe\">\n",
       "  <thead>\n",
       "    <tr style=\"text-align: right;\">\n",
       "      <th></th>\n",
       "      <th>atributo</th>\n",
       "      <th>importance</th>\n",
       "    </tr>\n",
       "  </thead>\n",
       "  <tbody>\n",
       "    <tr>\n",
       "      <th>0</th>\n",
       "      <td>dob</td>\n",
       "      <td>0.146628</td>\n",
       "    </tr>\n",
       "    <tr>\n",
       "      <th>4</th>\n",
       "      <td>weight</td>\n",
       "      <td>0.113845</td>\n",
       "    </tr>\n",
       "    <tr>\n",
       "      <th>1</th>\n",
       "      <td>age</td>\n",
       "      <td>0.089037</td>\n",
       "    </tr>\n",
       "    <tr>\n",
       "      <th>34</th>\n",
       "      <td>build_T</td>\n",
       "      <td>0.077797</td>\n",
       "    </tr>\n",
       "    <tr>\n",
       "      <th>3</th>\n",
       "      <td>ht_inch</td>\n",
       "      <td>0.077624</td>\n",
       "    </tr>\n",
       "    <tr>\n",
       "      <th>33</th>\n",
       "      <td>build_M</td>\n",
       "      <td>0.076790</td>\n",
       "    </tr>\n",
       "    <tr>\n",
       "      <th>10</th>\n",
       "      <td>race_Q</td>\n",
       "      <td>0.066000</td>\n",
       "    </tr>\n",
       "    <tr>\n",
       "      <th>7</th>\n",
       "      <td>race_B</td>\n",
       "      <td>0.062366</td>\n",
       "    </tr>\n",
       "    <tr>\n",
       "      <th>16</th>\n",
       "      <td>haircolr_BR</td>\n",
       "      <td>0.061279</td>\n",
       "    </tr>\n",
       "    <tr>\n",
       "      <th>14</th>\n",
       "      <td>haircolr_BK</td>\n",
       "      <td>0.058157</td>\n",
       "    </tr>\n",
       "    <tr>\n",
       "      <th>12</th>\n",
       "      <td>race_W</td>\n",
       "      <td>0.033400</td>\n",
       "    </tr>\n",
       "    <tr>\n",
       "      <th>2</th>\n",
       "      <td>ht_feet</td>\n",
       "      <td>0.032362</td>\n",
       "    </tr>\n",
       "    <tr>\n",
       "      <th>9</th>\n",
       "      <td>race_P</td>\n",
       "      <td>0.029472</td>\n",
       "    </tr>\n",
       "    <tr>\n",
       "      <th>5</th>\n",
       "      <td>sex_M</td>\n",
       "      <td>0.014162</td>\n",
       "    </tr>\n",
       "    <tr>\n",
       "      <th>25</th>\n",
       "      <td>eyecolor_BR</td>\n",
       "      <td>0.013651</td>\n",
       "    </tr>\n",
       "    <tr>\n",
       "      <th>13</th>\n",
       "      <td>race_Z</td>\n",
       "      <td>0.010182</td>\n",
       "    </tr>\n",
       "    <tr>\n",
       "      <th>15</th>\n",
       "      <td>haircolr_BL</td>\n",
       "      <td>0.004647</td>\n",
       "    </tr>\n",
       "    <tr>\n",
       "      <th>6</th>\n",
       "      <td>sex_Z</td>\n",
       "      <td>0.004446</td>\n",
       "    </tr>\n",
       "    <tr>\n",
       "      <th>18</th>\n",
       "      <td>haircolr_GY</td>\n",
       "      <td>0.003961</td>\n",
       "    </tr>\n",
       "    <tr>\n",
       "      <th>24</th>\n",
       "      <td>eyecolor_BL</td>\n",
       "      <td>0.003511</td>\n",
       "    </tr>\n",
       "    <tr>\n",
       "      <th>11</th>\n",
       "      <td>race_U</td>\n",
       "      <td>0.003243</td>\n",
       "    </tr>\n",
       "    <tr>\n",
       "      <th>36</th>\n",
       "      <td>build_Z</td>\n",
       "      <td>0.002780</td>\n",
       "    </tr>\n",
       "    <tr>\n",
       "      <th>22</th>\n",
       "      <td>haircolr_XX</td>\n",
       "      <td>0.002186</td>\n",
       "    </tr>\n",
       "    <tr>\n",
       "      <th>8</th>\n",
       "      <td>race_I</td>\n",
       "      <td>0.001910</td>\n",
       "    </tr>\n",
       "    <tr>\n",
       "      <th>21</th>\n",
       "      <td>haircolr_SP</td>\n",
       "      <td>0.001891</td>\n",
       "    </tr>\n",
       "    <tr>\n",
       "      <th>23</th>\n",
       "      <td>haircolr_ZZ</td>\n",
       "      <td>0.001602</td>\n",
       "    </tr>\n",
       "    <tr>\n",
       "      <th>29</th>\n",
       "      <td>eyecolor_HA</td>\n",
       "      <td>0.001601</td>\n",
       "    </tr>\n",
       "    <tr>\n",
       "      <th>35</th>\n",
       "      <td>build_U</td>\n",
       "      <td>0.001448</td>\n",
       "    </tr>\n",
       "    <tr>\n",
       "      <th>27</th>\n",
       "      <td>eyecolor_GR</td>\n",
       "      <td>0.001035</td>\n",
       "    </tr>\n",
       "    <tr>\n",
       "      <th>31</th>\n",
       "      <td>eyecolor_XX</td>\n",
       "      <td>0.000947</td>\n",
       "    </tr>\n",
       "  </tbody>\n",
       "</table>\n",
       "</div>"
      ],
      "text/plain": [
       "       atributo  importance\n",
       "0           dob    0.146628\n",
       "4        weight    0.113845\n",
       "1           age    0.089037\n",
       "34      build_T    0.077797\n",
       "3       ht_inch    0.077624\n",
       "33      build_M    0.076790\n",
       "10       race_Q    0.066000\n",
       "7        race_B    0.062366\n",
       "16  haircolr_BR    0.061279\n",
       "14  haircolr_BK    0.058157\n",
       "12       race_W    0.033400\n",
       "2       ht_feet    0.032362\n",
       "9        race_P    0.029472\n",
       "5         sex_M    0.014162\n",
       "25  eyecolor_BR    0.013651\n",
       "13       race_Z    0.010182\n",
       "15  haircolr_BL    0.004647\n",
       "6         sex_Z    0.004446\n",
       "18  haircolr_GY    0.003961\n",
       "24  eyecolor_BL    0.003511\n",
       "11       race_U    0.003243\n",
       "36      build_Z    0.002780\n",
       "22  haircolr_XX    0.002186\n",
       "8        race_I    0.001910\n",
       "21  haircolr_SP    0.001891\n",
       "23  haircolr_ZZ    0.001602\n",
       "29  eyecolor_HA    0.001601\n",
       "35      build_U    0.001448\n",
       "27  eyecolor_GR    0.001035\n",
       "31  eyecolor_XX    0.000947"
      ]
     },
     "execution_count": 69,
     "metadata": {},
     "output_type": "execute_result"
    }
   ],
   "source": [
    "df_importances = pd.DataFrame(zip(x_train.columns,rf_model_gridcv.best_estimator_.feature_importances_), columns=['atributo', 'importance']).sort_values(by='importance', ascending=False)\n",
    "df_importances.head(30)"
   ]
  },
  {
   "cell_type": "markdown",
   "metadata": {},
   "source": [
    "- Se seleccionarán los 30 atributos más relevantes y se reentrenará el modelo anterior"
   ]
  },
  {
   "cell_type": "code",
   "execution_count": 70,
   "metadata": {},
   "outputs": [],
   "source": [
    "x_train_import = x_train.loc[:,list(df_importances.head(30)['atributo'])]\n",
    "x_test_import = x_test.loc[:,list(df_importances.head(30)['atributo'])]"
   ]
  },
  {
   "cell_type": "code",
   "execution_count": 106,
   "metadata": {},
   "outputs": [],
   "source": [
    "smote = SMOTE(random_state=1, sampling_strategy = 'minority')\n",
    "x_train_oversampled_2, y_train_oversampled_2 = smote.fit_resample(x_train_import,y_train)"
   ]
  },
  {
   "cell_type": "markdown",
   "metadata": {},
   "source": [
    "#### RandomForest con los 30 principales atributos"
   ]
  },
  {
   "cell_type": "code",
   "execution_count": 107,
   "metadata": {},
   "outputs": [],
   "source": [
    "params = {'max_features': [None , 'log2' , 'sqrt'],'n_estimators': [10,50,100,150,200,250], 'max_depth':[None, 2,5,7,10]}\n",
    "\n",
    "rf_model_gridcv_2 = GridSearchCV(RandomForestClassifier(random_state = 1), params, cv=5, n_jobs=-1).fit(x_train_oversampled_2,y_train_oversampled_2)\n"
   ]
  },
  {
   "cell_type": "code",
   "execution_count": 109,
   "metadata": {},
   "outputs": [
    {
     "name": "stdout",
     "output_type": "stream",
     "text": [
      "              precision    recall  f1-score   support\n",
      "\n",
      "           0       0.94      0.96      0.95      5613\n",
      "           1       0.10      0.07      0.08       400\n",
      "\n",
      "   micro avg       0.90      0.90      0.90      6013\n",
      "   macro avg       0.52      0.51      0.51      6013\n",
      "weighted avg       0.88      0.90      0.89      6013\n",
      "\n",
      "accuracy:  0.899\n"
     ]
    }
   ],
   "source": [
    "predictions = rf_model_gridcv_2.predict(x_test_import)\n",
    "print(classification_report(y_test,predictions))\n",
    "print('accuracy: ', round(accuracy_score(y_test,predictions),3))"
   ]
  },
  {
   "cell_type": "code",
   "execution_count": 110,
   "metadata": {},
   "outputs": [
    {
     "data": {
      "image/png": "[encoded data removed]",
      "text/plain": [
       "<Figure size 720x720 with 1 Axes>"
      ]
     },
     "metadata": {
      "needs_background": "light"
     },
     "output_type": "display_data"
    }
   ],
   "source": [
    "leyenda=['no_arrestado','arrestado']\n",
    "mat = confusion_matrix(y_test, predictions)\n",
    "sns.heatmap(\n",
    "    mat.T, square=True, annot=True, fmt='d', cbar=False,\n",
    "    xticklabels=leyenda, \n",
    "    yticklabels=leyenda\n",
    ")\n",
    "plt.xlabel('true label')\n",
    "plt.ylabel('predicted label')\n",
    "plt.show()"
   ]
  },
  {
   "cell_type": "markdown",
   "metadata": {},
   "source": [
    "- En base a lo anterior se puede decir que el modelo empeoró al seleccionar los 30 principales atributos ya que el accuracy bajó de .914 a .899"
   ]
  },
  {
   "cell_type": "markdown",
   "metadata": {},
   "source": [
    "### 1.2 BernoulliNB arstmade"
   ]
  },
  {
   "cell_type": "code",
   "execution_count": 111,
   "metadata": {},
   "outputs": [],
   "source": [
    "from sklearn.naive_bayes import BernoulliNB\n",
    "\n",
    "#hiperparámetros alpha = 0.5\n",
    "model_NB = BernoulliNB(alpha=0.5).fit(x_train_oversampled, y_train_oversampled)"
   ]
  },
  {
   "cell_type": "code",
   "execution_count": 112,
   "metadata": {
    "scrolled": true
   },
   "outputs": [
    {
     "name": "stdout",
     "output_type": "stream",
     "text": [
      "              precision    recall  f1-score   support\n",
      "\n",
      "           0       0.93      0.97      0.95      5613\n",
      "           1       0.07      0.03      0.04       400\n",
      "\n",
      "   micro avg       0.91      0.91      0.91      6013\n",
      "   macro avg       0.50      0.50      0.50      6013\n",
      "weighted avg       0.88      0.91      0.89      6013\n",
      "\n",
      "accuracy:  0.91\n"
     ]
    }
   ],
   "source": [
    "predictions = model_NB.predict(x_test)\n",
    "print(classification_report(y_test,predictions))\n",
    "print('accuracy: ', round(accuracy_score(y_test,predictions),3))"
   ]
  },
  {
   "cell_type": "code",
   "execution_count": 113,
   "metadata": {},
   "outputs": [
    {
     "data": {
      "image/png": "[encoded data removed]",
      "text/plain": [
       "<Figure size 720x720 with 1 Axes>"
      ]
     },
     "metadata": {
      "needs_background": "light"
     },
     "output_type": "display_data"
    }
   ],
   "source": [
    "# matriz de confusión\n",
    "\n",
    "leyenda=['no_arrestado','arrestado']\n",
    "mat = confusion_matrix(y_test, predictions)\n",
    "sns.heatmap(\n",
    "    mat.T, square=True, annot=True, fmt='d', cbar=False,\n",
    "    xticklabels=leyenda, \n",
    "    yticklabels=leyenda\n",
    ")\n",
    "plt.xlabel('true label')\n",
    "plt.ylabel('predicted label')\n",
    "plt.show()"
   ]
  },
  {
   "cell_type": "markdown",
   "metadata": {},
   "source": [
    "- El mejor modelo obtenido fue RandomForest con SMOTE y usando todos los atributos disponibles."
   ]
  },
  {
   "cell_type": "markdown",
   "metadata": {},
   "source": [
    "### 2. MODELOS FORCE_PROCESS"
   ]
  },
  {
   "cell_type": "markdown",
   "metadata": {},
   "source": [
    "- Se proponen **5** modelos predictivos:<BR>\n",
    "    2.1 Logistic Regresion<BR>\n",
    "    2.2 Random Forest<BR>\n",
    "    2.3 AdaBoost<BR>\n",
    "    2.4 GradientBoosting<BR>\n",
    "    2.5 SVM"
   ]
  },
  {
   "cell_type": "markdown",
   "metadata": {},
   "source": [
    "### 2.1 Logistic Regresion force_process"
   ]
  },
  {
   "cell_type": "markdown",
   "metadata": {},
   "source": [
    "Para el algoritmo de Regresión Logística se realizará una búsqueda de hiperparámetros con GridSearchCV con los siguientes valores: C: 0.0001, 0.001, 0.01, 0.1, 1, 10, 100, 1000 y penalty: 'l1', 'l2'"
   ]
  },
  {
   "cell_type": "code",
   "execution_count": 57,
   "metadata": {},
   "outputs": [],
   "source": [
    "params = {'C': [0.0001, 0.001, 0.01, 0.1, 1, 10, 100, 1000],'penalty': ['l1', 'l2']}\n",
    "\n",
    "logistic_gridcv = GridSearchCV(LogisticRegression(random_state = 1), params, cv=5, n_jobs=-1).fit(x_train_2,y_train_2)\n"
   ]
  },
  {
   "cell_type": "markdown",
   "metadata": {},
   "source": [
    "La mejor combinación de hiperparametros que se obtuvo es:"
   ]
  },
  {
   "cell_type": "code",
   "execution_count": 58,
   "metadata": {},
   "outputs": [
    {
     "data": {
      "text/plain": [
       "{'C': 0.01, 'penalty': 'l2'}"
      ]
     },
     "execution_count": 58,
     "metadata": {},
     "output_type": "execute_result"
    }
   ],
   "source": [
    "logistic_gridcv.best_params_"
   ]
  },
  {
   "cell_type": "code",
   "execution_count": 59,
   "metadata": {
    "scrolled": true
   },
   "outputs": [
    {
     "name": "stdout",
     "output_type": "stream",
     "text": [
      "              precision    recall  f1-score   support\n",
      "\n",
      "           0       0.78      0.97      0.86      4437\n",
      "           1       0.56      0.13      0.21      1403\n",
      "\n",
      "    accuracy                           0.77      5840\n",
      "   macro avg       0.67      0.55      0.54      5840\n",
      "weighted avg       0.72      0.77      0.71      5840\n",
      "\n",
      "accuracy:  0.766\n"
     ]
    }
   ],
   "source": [
    "predictions_lr = logistic_gridcv.predict(x_test_2)\n",
    "print(classification_report(y_test_2,predictions_lr))\n",
    "print('accuracy: ', round(accuracy_score(y_test_2,predictions_lr),3))"
   ]
  },
  {
   "cell_type": "markdown",
   "metadata": {},
   "source": [
    "### 2.2 Random Forest force_process"
   ]
  },
  {
   "cell_type": "markdown",
   "metadata": {},
   "source": [
    "Para el algoritmo de RandomForest se realizará una búsqueda de hiperparámetros con GridSearchCV con los siguientes valores; max_features: None, 'log2' y 'sqrt'; n_estimators: 50, 100, 150, 200, 250, 500 y 'max_depth': None, 2, 5, 7, 10 "
   ]
  },
  {
   "cell_type": "code",
   "execution_count": 72,
   "metadata": {},
   "outputs": [],
   "source": [
    "params = {'max_features': [None , 'log2' , 'sqrt'],'n_estimators': [50,100,150,200,250,500], 'max_depth':[None, 2,5,7,10]}\n",
    "\n",
    "rf_model_gridcv_2 = GridSearchCV(RandomForestClassifier(random_state = 1), params, cv=5, n_jobs=-1).fit(x_train_2,y_train_2)"
   ]
  },
  {
   "cell_type": "markdown",
   "metadata": {},
   "source": [
    "La mejor combinación de hiperparametros que se obtuvo es:"
   ]
  },
  {
   "cell_type": "code",
   "execution_count": 73,
   "metadata": {},
   "outputs": [
    {
     "data": {
      "text/plain": [
       "{'max_depth': None, 'max_features': 'sqrt', 'n_estimators': 250}"
      ]
     },
     "execution_count": 73,
     "metadata": {},
     "output_type": "execute_result"
    }
   ],
   "source": [
    "rf_model_gridcv_2.best_params_"
   ]
  },
  {
   "cell_type": "code",
   "execution_count": 74,
   "metadata": {},
   "outputs": [
    {
     "name": "stdout",
     "output_type": "stream",
     "text": [
      "              precision    recall  f1-score   support\n",
      "\n",
      "           0       0.80      0.94      0.86      4437\n",
      "           1       0.55      0.24      0.33      1403\n",
      "\n",
      "    accuracy                           0.77      5840\n",
      "   macro avg       0.67      0.59      0.60      5840\n",
      "weighted avg       0.74      0.77      0.73      5840\n",
      "\n",
      "accuracy:  0.77\n"
     ]
    }
   ],
   "source": [
    "predictions_rf = rf_model_gridcv_2.predict(x_test_2)\n",
    "print(classification_report(y_test_2,predictions_rf))\n",
    "print('accuracy: ', round(accuracy_score(y_test_2,predictions_rf),3))"
   ]
  },
  {
   "cell_type": "markdown",
   "metadata": {},
   "source": [
    "### 2.3 AdaBoost force_process"
   ]
  },
  {
   "cell_type": "markdown",
   "metadata": {},
   "source": [
    "Para el algoritmo de AdaBoost se realizará una búsqueda de hiperparámetros con GridSearchCV con los siguientes valores: learning_rate: 0.01, 0.1, 0.5 y n_estimators: 50, 100, 500, 1000, 2000"
   ]
  },
  {
   "cell_type": "code",
   "execution_count": 75,
   "metadata": {},
   "outputs": [],
   "source": [
    "params = {'learning_rate': [0.01, 0.1,0.5],'n_estimators': [50, 100, 500, 1000, 2000]}\n",
    "\n",
    "adaboost_gridcv_2 = GridSearchCV(AdaBoostClassifier(random_state = 1), params, cv=5, n_jobs=-1).fit(x_train_2,y_train_2)\n"
   ]
  },
  {
   "cell_type": "markdown",
   "metadata": {},
   "source": [
    "La mejor combinación de hiperparametros que se obtuvo es:"
   ]
  },
  {
   "cell_type": "code",
   "execution_count": 76,
   "metadata": {},
   "outputs": [
    {
     "data": {
      "text/plain": [
       "{'learning_rate': 0.1, 'n_estimators': 100}"
      ]
     },
     "execution_count": 76,
     "metadata": {},
     "output_type": "execute_result"
    }
   ],
   "source": [
    "adaboost_gridcv_2.best_params_"
   ]
  },
  {
   "cell_type": "code",
   "execution_count": 77,
   "metadata": {},
   "outputs": [
    {
     "name": "stdout",
     "output_type": "stream",
     "text": [
      "              precision    recall  f1-score   support\n",
      "\n",
      "           0       0.78      0.97      0.86      4437\n",
      "           1       0.57      0.14      0.23      1403\n",
      "\n",
      "    accuracy                           0.77      5840\n",
      "   macro avg       0.68      0.55      0.55      5840\n",
      "weighted avg       0.73      0.77      0.71      5840\n",
      "\n",
      "accuracy:  0.768\n"
     ]
    }
   ],
   "source": [
    "predictions_ada = adaboost_gridcv_2.predict(x_test_2)\n",
    "print(classification_report(y_test_2,predictions_ada))\n",
    "print('accuracy: ', round(accuracy_score(y_test_2,predictions_ada),3))"
   ]
  },
  {
   "cell_type": "markdown",
   "metadata": {},
   "source": [
    "### 2.4 GradientBoosting force_process"
   ]
  },
  {
   "cell_type": "markdown",
   "metadata": {},
   "source": [
    "Para el algoritmo de GradientBoosting se realizará una búsqueda de hiperparámetros con GridSearchCV con los siguientes valores: learning_rate: 0.01, 0.1, 0.5; n_estimators: 50, 100, 500, 1000, 2000; subsample: 0.1, 0.5, 0.9"
   ]
  },
  {
   "cell_type": "code",
   "execution_count": 78,
   "metadata": {},
   "outputs": [],
   "source": [
    "params = {'learning_rate': [0.01, 0.1,0.5],'n_estimators': [50, 100, 500, 1000, 2000],'subsample': [0.1,0.5,0.9]}\n",
    "\n",
    "gradient_boost_gridcv_2 = GridSearchCV(GradientBoostingClassifier(random_state = 1), params, cv=5, n_jobs=-1).fit(x_train_2,y_train_2)\n"
   ]
  },
  {
   "cell_type": "markdown",
   "metadata": {},
   "source": [
    "La mejor combinación de hiperparametros que se obtuvo es:"
   ]
  },
  {
   "cell_type": "code",
   "execution_count": 79,
   "metadata": {},
   "outputs": [
    {
     "data": {
      "text/plain": [
       "{'learning_rate': 0.01, 'n_estimators': 1000, 'subsample': 0.1}"
      ]
     },
     "execution_count": 79,
     "metadata": {},
     "output_type": "execute_result"
    }
   ],
   "source": [
    "gradient_boost_gridcv_2.best_params_"
   ]
  },
  {
   "cell_type": "code",
   "execution_count": 80,
   "metadata": {},
   "outputs": [
    {
     "name": "stdout",
     "output_type": "stream",
     "text": [
      "              precision    recall  f1-score   support\n",
      "\n",
      "           0       0.80      0.91      0.85      4437\n",
      "           1       0.50      0.28      0.36      1403\n",
      "\n",
      "    accuracy                           0.76      5840\n",
      "   macro avg       0.65      0.60      0.61      5840\n",
      "weighted avg       0.73      0.76      0.73      5840\n",
      "\n",
      "accuracy:  0.76\n"
     ]
    }
   ],
   "source": [
    "predictions_gb = gradient_boost_gridcv_2.predict(x_test_2)\n",
    "print(classification_report(y_test_2,predictions_gb))\n",
    "print('accuracy: ', round(accuracy_score(y_test_2,predictions_gb),3))"
   ]
  },
  {
   "cell_type": "markdown",
   "metadata": {},
   "source": [
    "### 2.5 SVM force_process"
   ]
  },
  {
   "cell_type": "markdown",
   "metadata": {},
   "source": [
    "Para SVM se realizará una búsqueda de hiperparámetros con GridSearchCV con los siguientes valores: C: 0.0001, 0.001, 0.01, 0.1, 1, 10, 100, 1000 y'gamma': 0.0000001, 0.0001, 0.001, 0.01, 0.1, 1, 10. Se utilizará un kernel por defecto 'rbf', ésto es porque los datos presentan una estructura no-lineal."
   ]
  },
  {
   "cell_type": "code",
   "execution_count": 81,
   "metadata": {},
   "outputs": [],
   "source": [
    "params = {'C': [0.0001, 0.001, 0.01, 0.1, 1, 10, 100, 1000],'gamma': [0.0000001, 0.0001, 0.001, 0.01, 0.1, 1, 10]}\n",
    "\n",
    "svm_gridcv_2 = GridSearchCV(SVC(kernel='rbf',random_state = 1), params, cv=5, n_jobs=-1).fit(x_train_2,y_train_2)\n"
   ]
  },
  {
   "cell_type": "markdown",
   "metadata": {},
   "source": [
    "La mejor combinación de hiperparametros que se obtuvo es:"
   ]
  },
  {
   "cell_type": "code",
   "execution_count": 82,
   "metadata": {},
   "outputs": [
    {
     "data": {
      "text/plain": [
       "{'C': 1, 'gamma': 0.1}"
      ]
     },
     "execution_count": 82,
     "metadata": {},
     "output_type": "execute_result"
    }
   ],
   "source": [
    "svm_gridcv_2.best_params_"
   ]
  },
  {
   "cell_type": "code",
   "execution_count": 83,
   "metadata": {},
   "outputs": [
    {
     "name": "stdout",
     "output_type": "stream",
     "text": [
      "              precision    recall  f1-score   support\n",
      "\n",
      "           0       0.76      0.98      0.86      4437\n",
      "           1       0.45      0.04      0.07      1403\n",
      "\n",
      "    accuracy                           0.76      5840\n",
      "   macro avg       0.61      0.51      0.47      5840\n",
      "weighted avg       0.69      0.76      0.67      5840\n",
      "\n",
      "accuracy:  0.758\n"
     ]
    }
   ],
   "source": [
    "predictions_svm = svm_gridcv_2.predict(x_test_2)\n",
    "print(classification_report(y_test_2,predictions_svm))\n",
    "print('accuracy: ', round(accuracy_score(y_test_2,predictions_svm),3))"
   ]
  },
  {
   "cell_type": "markdown",
   "metadata": {},
   "source": [
    "### Elección de mejor modelo"
   ]
  },
  {
   "cell_type": "code",
   "execution_count": 88,
   "metadata": {},
   "outputs": [],
   "source": [
    "promedios = [['LogisticRegression',recall_score(y_test_2,logistic_gridcv.predict(x_test_2),average = 'macro').round(3),\n",
    "             accuracy_score(y_test_2,logistic_gridcv.predict(x_test_2)).round(3)],\n",
    "            ['RandomForestClassifier',recall_score(y_test_2,rf_model_gridcv_2.predict(x_test_2),average = 'macro').round(3),\n",
    "             accuracy_score(y_test_2,rf_model_gridcv_2.predict(x_test_2)).round(3)],\n",
    "            ['AdaboostClassifier',recall_score(y_test_2,adaboost_gridcv_2.predict(x_test_2),average = 'macro').round(3),\n",
    "             accuracy_score(y_test_2,adaboost_gridcv_2.predict(x_test_2)).round(3)],\n",
    "            ['GradientBoostingClassifier',recall_score(y_test_2,gradient_boost_gridcv_2.predict(x_test_2),average = 'macro').round(3),\n",
    "             accuracy_score(y_test_2,gradient_boost_gridcv_2.predict(x_test_2)).round(3)],\n",
    "            ['SVC',recall_score(y_test_2,svm_gridcv_2.predict(x_test_2),average = 'macro').round(3),\n",
    "             accuracy_score(y_test_2,svm_gridcv_2.predict(x_test_2)).round(3)]]\n",
    "df_promedios = pd.DataFrame(promedios, columns = ['Modelo','Recall','Accuracy']).sort_values(by='Accuracy', ascending=False)"
   ]
  },
  {
   "cell_type": "markdown",
   "metadata": {},
   "source": [
    "#### Desempeño de los modelos ordenados de mejor al peor"
   ]
  },
  {
   "cell_type": "code",
   "execution_count": 89,
   "metadata": {},
   "outputs": [
    {
     "data": {
      "text/html": [
       "<div>\n",
       "<style scoped>\n",
       "    .dataframe tbody tr th:only-of-type {\n",
       "        vertical-align: middle;\n",
       "    }\n",
       "\n",
       "    .dataframe tbody tr th {\n",
       "        vertical-align: top;\n",
       "    }\n",
       "\n",
       "    .dataframe thead th {\n",
       "        text-align: right;\n",
       "    }\n",
       "</style>\n",
       "<table border=\"1\" class=\"dataframe\">\n",
       "  <thead>\n",
       "    <tr style=\"text-align: right;\">\n",
       "      <th></th>\n",
       "      <th>Modelo</th>\n",
       "      <th>Recall</th>\n",
       "      <th>Accuracy</th>\n",
       "    </tr>\n",
       "  </thead>\n",
       "  <tbody>\n",
       "    <tr>\n",
       "      <td>1</td>\n",
       "      <td>RandomForestClassifier</td>\n",
       "      <td>0.589</td>\n",
       "      <td>0.770</td>\n",
       "    </tr>\n",
       "    <tr>\n",
       "      <td>2</td>\n",
       "      <td>AdaboostClassifier</td>\n",
       "      <td>0.555</td>\n",
       "      <td>0.768</td>\n",
       "    </tr>\n",
       "    <tr>\n",
       "      <td>0</td>\n",
       "      <td>LogisticRegression</td>\n",
       "      <td>0.548</td>\n",
       "      <td>0.766</td>\n",
       "    </tr>\n",
       "    <tr>\n",
       "      <td>3</td>\n",
       "      <td>GradientBoostingClassifier</td>\n",
       "      <td>0.596</td>\n",
       "      <td>0.760</td>\n",
       "    </tr>\n",
       "    <tr>\n",
       "      <td>4</td>\n",
       "      <td>SVC</td>\n",
       "      <td>0.512</td>\n",
       "      <td>0.758</td>\n",
       "    </tr>\n",
       "  </tbody>\n",
       "</table>\n",
       "</div>"
      ],
      "text/plain": [
       "                       Modelo  Recall  Accuracy\n",
       "1      RandomForestClassifier   0.589     0.770\n",
       "2          AdaboostClassifier   0.555     0.768\n",
       "0          LogisticRegression   0.548     0.766\n",
       "3  GradientBoostingClassifier   0.596     0.760\n",
       "4                         SVC   0.512     0.758"
      ]
     },
     "execution_count": 89,
     "metadata": {},
     "output_type": "execute_result"
    }
   ],
   "source": [
    "df_promedios"
   ]
  },
  {
   "cell_type": "markdown",
   "metadata": {},
   "source": [
    "- En base a los resultados de todos los modelos entrenados, se obtuvo que los 2 mejores modelos fueron RandomForest y Adaboost, para esto es usó la métrica accuracy la cual indica el número de procedimientos violentos clasificados correctamente en comparación con el número total de procedimientos, y también se consideró recall para saber que proporción de procedimientos violentos reales fueron clasificados correctamente en comparación con el numero total de procedimientos violentos.\n",
    "- Estos modelos serán serializados a continuación:"
   ]
  },
  {
   "cell_type": "code",
   "execution_count": 91,
   "metadata": {},
   "outputs": [
    {
     "data": {
      "text/plain": [
       "['contreras_vera-AdaboostClassifier.joblib']"
      ]
     },
     "execution_count": 91,
     "metadata": {},
     "output_type": "execute_result"
    }
   ],
   "source": [
    "from  joblib import load,dump\n",
    "\n",
    "dump(rf_model_gridcv_2.best_estimator_,'contreras_vera-RandomForestClassifier.joblib')\n",
    "dump(adaboost_gridcv_2.best_estimator_,'contreras_vera-AdaboostClassifier.joblib')"
   ]
  },
  {
   "cell_type": "markdown",
   "metadata": {},
   "source": [
    "                                                            ***"
   ]
  }
 ],
 "metadata": {
  "kernelspec": {
   "display_name": "Python 3",
   "language": "python",
   "name": "python3"
  },
  "language_info": {
   "codemirror_mode": {
    "name": "ipython",
    "version": 3
   },
   "file_extension": ".py",
   "mimetype": "text/x-python",
   "name": "python",
   "nbconvert_exporter": "python",
   "pygments_lexer": "ipython3",
   "version": "3.7.3"
  }
 },
 "nbformat": 4,
 "nbformat_minor": 4
}
